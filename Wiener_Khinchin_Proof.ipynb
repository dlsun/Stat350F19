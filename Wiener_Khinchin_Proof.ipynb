{
  "nbformat": 4,
  "nbformat_minor": 0,
  "metadata": {
    "colab": {
      "name": "Proof of the Wiener-Khinchin Theorem",
      "provenance": [],
      "collapsed_sections": [
        "xgspTV8dLhP9"
      ],
      "include_colab_link": true
    },
    "kernelspec": {
      "name": "python3",
      "display_name": "Python 3"
    }
  },
  "cells": [
    {
      "cell_type": "markdown",
      "metadata": {
        "id": "view-in-github",
        "colab_type": "text"
      },
      "source": [
        "<a href=\"https://colab.research.google.com/github/dlsun/Stat350F19/blob/master/Wiener_Khinchin_Proof.ipynb\" target=\"_parent\"><img src=\"https://colab.research.google.com/assets/colab-badge.svg\" alt=\"Open In Colab\"/></a>"
      ]
    },
    {
      "cell_type": "markdown",
      "metadata": {
        "id": "MpVi78sUUEt-",
        "colab_type": "text"
      },
      "source": [
        "# Proof of the Wiener-Khinchin Theorem\n",
        "\n",
        "There are two ways to prove the Wiener-Khinchin Theorem, which says that the power spectral density of a stationary process is the Fourier transform of $C(\\Delta t) + \\mu^2$."
      ]
    },
    {
      "cell_type": "markdown",
      "metadata": {
        "id": "jKRP-t6YLdri",
        "colab_type": "text"
      },
      "source": [
        "## Method 1\n",
        "\n",
        "Define the power spectral density formally as the limit of the Fourier transform of the random signal $\\{ X(t) \\}$ truncated to $[-T, T]$:\n",
        "$$ S_X(f) \\overset{\\text{def}}{=} \\lim_{T \\to\\infty} \\frac{1}{2T} E|\\mathcal{F}[X_T](f)|^2. $$\n",
        "By expanding this definition and simplifying, you can show that $S_X = \\mathcal{F}[C(\\Delta t) + \\mu^2]$. \n",
        "\n",
        "This is the approach that Wiener took in [his original 1930 paper](https://projecteuclid.org/euclid.acta/1485887877). Details are in [the textbook (pp. 572-3)](https://link.springer.com/book/10.1007/978-3-319-52401-6) if you are interested, but this approach is an algebraic mess.\n"
      ]
    },
    {
      "cell_type": "markdown",
      "metadata": {
        "id": "xgspTV8dLhP9",
        "colab_type": "text"
      },
      "source": [
        "## Method 2\n",
        "\n",
        "Define the power spectral density as the unique function satisfying two properties:\n",
        "1. The integral of $S_X(f)$ over all frequencies should produce the average expected power.\n",
        "2. The integral of $S_X(f)$ over any frequency band $[f_0, f_1]$ should produce the average expected power between $f_0$ and $f_1$.\n",
        "\n",
        "So to prove the Wiener-Khinchin Theorem, we just need to check that $S_X = \\mathcal{F}[C(\\Delta t) + \\mu^2]$ satisfies these two properties."
      ]
    },
    {
      "cell_type": "markdown",
      "metadata": {
        "colab_type": "text",
        "id": "zmWcVe6KJHNu"
      },
      "source": [
        "### Property 1\n",
        "\n",
        "Property 1 follows immediately from the Fourier property that the value of the signal at 0 in one domain is the integral of the signal in the other domain.\n",
        "\n",
        "Since we have the Fourier pair \n",
        "$$ C(\\Delta t) + \\mu^2 \\overset{\\mathcal{F}}{\\longleftrightarrow} S_X(f), $$\n",
        "the Fourier property tells us that \n",
        "$$ C(0) + \\mu^2 = \\int_{-\\infty}^\\infty S_X(f)\\,df. $$\n",
        "\n",
        "But $C(0) + \\mu^2$ is just the average expected power in the signal."
      ]
    },
    {
      "cell_type": "markdown",
      "metadata": {
        "id": "gY2ge0fWUioY",
        "colab_type": "text"
      },
      "source": [
        "### Property 2\n",
        "\n",
        "To find the average power in $\\{ X(t) \\}$ between $f_0$ and $f_1$, we could first pass the signal through a bandpass filter with transfer function \n",
        "$$H(f) = \\begin{cases} 1 & f_0 \\leq |f| \\leq f_1 \\\\ 0 & \\text{otherwise} \\end{cases} $$\n",
        "and then measure the average expected power in the output signal $\\{ Y(t) \\}$.\n",
        "\n",
        "By the Filter Theorem, we know that the PSD of the output signal is \n",
        "$$  S_Y(f) = |H(f)|^2 \\cdot S_X(f). $$\n",
        "Integrating this PSD over all frequencies, we get \n",
        "\\begin{align}\n",
        "\\int_{-\\infty}^\\infty S_Y(f)\\,df &= \\int_{-\\infty}^\\infty |H(f)|^2 \\cdot S_X(f)\\,df \\\\\n",
        "&= \\int_{f_0}^{f_1} S_X(f)\\,df + \\int_{-f_1}^{-f_0} S_X(f)\\,df\n",
        "\\end{align}\n",
        "But this is just the integral of the PSD of $\\{ X(t) \\}$ over the frequency band $[f_0, f_1]$."
      ]
    }
  ]
}