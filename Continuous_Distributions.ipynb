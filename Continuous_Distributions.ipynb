{
  "nbformat": 4,
  "nbformat_minor": 0,
  "metadata": {
    "colab": {
      "name": "Continuous Distributions",
      "provenance": [],
      "collapsed_sections": [
        "lRvCEBe3DeCx",
        "5sMZ7GnORMWO",
        "iBIih4xLRQFa",
        "ODAZQjsIWV0z"
      ]
    },
    "kernelspec": {
      "name": "python3",
      "display_name": "Python 3"
    }
  },
  "cells": [
    {
      "cell_type": "code",
      "metadata": {
        "id": "b3SE9dV3_M9l",
        "colab_type": "code",
        "cellView": "form",
        "colab": {}
      },
      "source": [
        "#@title Imports\n",
        "!pip install -q symbulate\n",
        "from symbulate import *\n",
        "\n",
        "import numpy as np\n",
        "import matplotlib.pyplot as plt\n",
        "%matplotlib inline"
      ],
      "execution_count": 0,
      "outputs": []
    },
    {
      "cell_type": "code",
      "metadata": {
        "id": "4a6wsWFyNeCD",
        "colab_type": "code",
        "cellView": "form",
        "colab": {}
      },
      "source": [
        "#@title Define Plotting Functions\n",
        "\n",
        "def plot_continuous_function(f, xlim=(0, 1), xlabel=\"\", ylabel=\"\"):\n",
        "  xs = np.linspace(xlim[0], xlim[1], 1000)\n",
        "  ys = [f(x) for x in xs]\n",
        "  plt.plot(xs, ys, \"-\")\n",
        "  plt.xlabel(xlabel, fontsize=18)\n",
        "  plt.ylabel(ylabel, fontsize=18)\n",
        "  plt.xlim(*xlim)"
      ],
      "execution_count": 0,
      "outputs": []
    },
    {
      "cell_type": "markdown",
      "metadata": {
        "id": "ZOpwAdMK_HmZ",
        "colab_type": "text"
      },
      "source": [
        "# Continuous Distributions"
      ]
    },
    {
      "cell_type": "markdown",
      "metadata": {
        "id": "8Wh1Iz9z_3bp",
        "colab_type": "text"
      },
      "source": [
        "## Motivation: Time-to-Event Data\n",
        "\n",
        "Suppose we wish to model random events (called **arrivals**) over time. For example, we might be interested in when radioactive particles hit a Geiger counter or when customers arrive at a bank. \n",
        "\n",
        "Run the cell below to simulate some random arrivals."
      ]
    },
    {
      "cell_type": "code",
      "metadata": {
        "id": "K9xAteiU_Eiu",
        "colab_type": "code",
        "cellView": "form",
        "colab": {}
      },
      "source": [
        "#@title Simulate Random Arrivals\n",
        "\n",
        "plt.figure(figsize=(8, 1))\n",
        "for t in 3 * np.random.rand(5):\n",
        "  plt.plot([t], [0], 'rx', markersize=10)\n",
        "plt.xlim(0, 3)\n",
        "plt.xlabel(\"Time ($t$)\", fontsize=16)\n",
        "  \n",
        "ax = plt.gca()\n",
        "ax.yaxis.set_visible(False)\n",
        "ax.spines['bottom'].set_position('center')\n",
        "ax.spines['left'].set_color('none')\n",
        "ax.spines['right'].set_color('none')\n",
        "ax.spines['top'].set_color('none')"
      ],
      "execution_count": 0,
      "outputs": []
    },
    {
      "cell_type": "markdown",
      "metadata": {
        "id": "lRvCEBe3DeCx",
        "colab_type": "text"
      },
      "source": [
        "## A Model for Time-to-Event Data\n",
        "\n",
        "- Chop up time into short intervals of length $\\Delta t = 1/m$, where $m$ is a large number. \n",
        "- Each short interval can either have 0 arrivals or 1 arrival. (The intervals are so short that 2 or more arrivals in the same interval is impossible.)\n",
        "- The probability of an arrival on any one short interval is small, $\\lambda / m$. This means that the rate of arrivals is constant. For example, in 1 second, there are $m$ intervals, so the rate of arrivals is \n",
        "$$ m \\cdot \\frac{\\lambda}{m} = \\lambda \\text{ arrivals per second}. $$\n",
        "- An arrival in one interval does not change the probability of an arrival in any other interval, so these intervals can be modeled as random draws (with replacement) from a box."
      ]
    },
    {
      "cell_type": "markdown",
      "metadata": {
        "id": "w0Z-kHAiEOI5",
        "colab_type": "text"
      },
      "source": [
        "How many arrivals are there between times $s$ and $t$? There are $m(t - s)$ short intervals between $s$ and $t$, each of which has a probability $\\lambda / m$ of containing an arrival. So the exact distribution is \n",
        "\n",
        "$$ \\text{number of arrivals in $(s, t)$} \\sim \\text{Binomial}(n=m(t - s), p=\\lambda/m). $$ \n",
        "\n",
        "But we learned that when $n$ is large and $p$ is small, as it is in this case, the distribution is approximately \n",
        "\n",
        "$$\\text{Poisson}(\\mu=\\lambda(t - s)). $$ \n",
        "\n",
        "For this reason, the model above is called the **Poisson process**."
      ]
    },
    {
      "cell_type": "markdown",
      "metadata": {
        "id": "jZtjQA_kHudd",
        "colab_type": "text"
      },
      "source": [
        "For example, consider a Poisson process with a rate of $2.3$ arrivals per second. The number of arrivals between $1$ and $3$ seconds is a random variable whose p.m.f. looks like..."
      ]
    },
    {
      "cell_type": "code",
      "metadata": {
        "id": "-egkcZLqAZOY",
        "colab_type": "code",
        "colab": {}
      },
      "source": [
        "# YOUR CODE HERE\n",
        "Poisson(2.3 * (3 - 1)).plot()"
      ],
      "execution_count": 0,
      "outputs": []
    },
    {
      "cell_type": "markdown",
      "metadata": {
        "id": "N_1ZhuL_Iz8e",
        "colab_type": "text"
      },
      "source": [
        "## The Time of the First Arrival\n",
        "\n",
        "We've seen that the _number_ of arrivals in an interval follows a Poisson distribution. What about the _time_ of the first arrival? This is a very different kind of random variable. Unlike the Poisson distribution, which takes on values in the set $\\{ 0, 1, 2, 3, ...\\}$, the _time_ of the first arrival can be any real number in the interval $(0, \\infty)$.\n",
        "\n",
        "- Distributions like the binomial, Poisson, hypergeometric, and negative binomial---where the possible outcomes are discrete (usually integers)---are called **discrete**.\n",
        "- The distribution of the time of the first arrival---where the possible outcomes are any real number---is called **continuous**.\n",
        "\n",
        "Let's explore some properties of continuous random variables."
      ]
    },
    {
      "cell_type": "markdown",
      "metadata": {
        "id": "5sMZ7GnORMWO",
        "colab_type": "text"
      },
      "source": [
        "### Probability of an Exact Value"
      ]
    },
    {
      "cell_type": "markdown",
      "metadata": {
        "id": "VgHKw90lQxbQ",
        "colab_type": "text"
      },
      "source": [
        "What is the probability that the time of the first arrival $T_1$ happens at exactly time $t$?\n",
        "\n",
        "$$ P(T_1 = t) $$\n",
        "\n",
        "In other words, we are looking for the number of trials until the first arrival. The number of trials $X$ follows a $\\text{NegativeBinomial}(r=1, p)$ distribution, with p.m.f. \n",
        "$$ p[x] = p (1 - p)^{x-1}. $$\n",
        "In our case, $p = \\lambda / n$ and $x = mt$, so plugging in these values for $p$ and $x$, we obtain \n",
        "\n",
        "\\begin{align}\n",
        "P(T_1 = t) &= \\frac{\\lambda}{m} \\left(1 - \\frac{\\lambda}{m}\\right)^{mt - 1} \\\\\n",
        "&\\approx \\lambda e^{-\\lambda t} \\Delta t & \\text{when $m$ is very large.}\n",
        "\\end{align}\n",
        "\n",
        "Because $\\Delta t = 1/m \\to 0$, the probability that $T_1$ is _exactly_ equal to $t$ is 0. This makes sense---there are so many possible times it could be; it is practically impossible that it would be _exactly_ equal to $t$."
      ]
    },
    {
      "cell_type": "markdown",
      "metadata": {
        "id": "iBIih4xLRQFa",
        "colab_type": "text"
      },
      "source": [
        "### Probability of a Range of Values"
      ]
    },
    {
      "cell_type": "markdown",
      "metadata": {
        "id": "zbYW6dFSQ-FS",
        "colab_type": "text"
      },
      "source": [
        "But there are other sensible probabilities we can calculate. For example, what is the probability that the first arrival happens between time $a$ and $b$?\n",
        "\n",
        "\\begin{align}\n",
        "P(a < T_1 < b) &= \\sum_{t=a}^b \\lambda e^{-\\lambda t} \\Delta t \\\\\n",
        "&\\approx \\int_a^b \\lambda e^{-\\lambda t}\\,dt & \\text{as $\\Delta t \\to 0$.}\n",
        "\\end{align}"
      ]
    },
    {
      "cell_type": "markdown",
      "metadata": {
        "id": "rczk4MKoV3LY",
        "colab_type": "text"
      },
      "source": [
        "### The Probability Density Function\n",
        "\n",
        "It turns out that the _integrand_ (the expression inside the integral)\n",
        "\n",
        "$$ p(t) = \\lambda e^{-\\lambda t}. $$\n",
        "\n",
        "completely the distribution of a continuous random variable.\n",
        "It is called the **probability density function** (p.d.f.). Let's take a look at this function."
      ]
    },
    {
      "cell_type": "code",
      "metadata": {
        "id": "coTd7j6jOljI",
        "colab_type": "code",
        "cellView": "form",
        "colab": {}
      },
      "source": [
        "#@title Graph the p.d.f. above.\n",
        "\n",
        "Exponential(0.5).plot(xlim=(0, 5))\n",
        "Exponential(1.).plot(xlim=(0, 5))\n",
        "Exponential(2.).plot(xlim=(0, 5))\n",
        "\n",
        "plt.xlabel(\"Time (t)\")\n",
        "plt.legend([r\"$\\lambda = 0.5$\", r\"$\\lambda = 1.$\", r\"$\\lambda = 2.$\"])\n"
      ],
      "execution_count": 0,
      "outputs": []
    },
    {
      "cell_type": "markdown",
      "metadata": {
        "id": "XNOk8daMP7wB",
        "colab_type": "text"
      },
      "source": [
        "The p.d.f. $p(x)$ is the function you integrate to get probabilities for continuous random variables. If we want to know the probability that the random variable falls in some set $B$, then we integrate the p.d.f. $p(x)$ over $B$:\n",
        "\n",
        "$$ P(X \\in B) = \\int_B p(x)\\,dx. $$\n",
        "\n",
        "**Caution:** The values of the p.d.f. are not probabilities. So $p(2.1)$ is _not_ the probability that the random variable is exactly equal to 2.1 (because the probability a continuous random variable is exactly equal to a particular value is 0, as we saw above!).\n",
        "\n",
        "You can see this another way. By the definition above, the probability that a continuous random variable $X$ is exactly equal to $a$ is the integral from $a$ to $a$ of $p(x)$, which is necessarily zero.\n",
        "\n",
        "$$ P(X = a) = \\int_a^a p(x)\\,dx = 0. $$"
      ]
    },
    {
      "cell_type": "markdown",
      "metadata": {
        "id": "ODAZQjsIWV0z",
        "colab_type": "text"
      },
      "source": [
        "## Exponential Distribution"
      ]
    },
    {
      "cell_type": "markdown",
      "metadata": {
        "id": "bgnSa6lyWoP6",
        "colab_type": "text"
      },
      "source": [
        "The continuous distribution that we derived above, with p.d.f. \n",
        "\n",
        "$$ p(x) = \\lambda e^{-\\lambda x}, x \\geq 0. $$\n",
        "\n",
        "is a named distribution. It is the $\\text{Exponential}(\\lambda)$ distribution."
      ]
    },
    {
      "cell_type": "code",
      "metadata": {
        "id": "nquY9Qf9KL4d",
        "colab_type": "code",
        "colab": {}
      },
      "source": [
        "X = RV(Exponential(1.5))\n",
        "xs = X.sim(10000)\n",
        "xs"
      ],
      "execution_count": 0,
      "outputs": []
    },
    {
      "cell_type": "code",
      "metadata": {
        "id": "A4ukwRChKgso",
        "colab_type": "code",
        "colab": {}
      },
      "source": [
        "xs.plot()\n",
        "Exponential(1.5).plot()"
      ],
      "execution_count": 0,
      "outputs": []
    },
    {
      "cell_type": "markdown",
      "metadata": {
        "id": "AtiqQSdpcaTM",
        "colab_type": "text"
      },
      "source": [
        "## Exercises"
      ]
    },
    {
      "cell_type": "markdown",
      "metadata": {
        "id": "AccBfL8oWSug",
        "colab_type": "text"
      },
      "source": [
        "### Exercise 1\n",
        "\n",
        "Suppose that customers arrive at a bank according to a Poisson process with rate $\\lambda = 0.8$ per minute.\n",
        "\n",
        "What is the probability that the first customer arrives after 3 minutes? (_Hint:_ There are two ways to answer this question---using the exponential distribution or using the Poisson distribution. Try both and make sure your answers match!)\n"
      ]
    },
    {
      "cell_type": "markdown",
      "metadata": {
        "id": "ylskoZ28UffJ",
        "colab_type": "text"
      },
      "source": [
        "### Exercise 2\n",
        "\n",
        "Suppose that we first choose a random number $R$ from an $\\text{Exponential}(\\lambda = 1.5)$ distribution and then draw a circle with radius $R$. What is the probability the _area_ of the circle is greater than $2$?"
      ]
    }
  ]
}