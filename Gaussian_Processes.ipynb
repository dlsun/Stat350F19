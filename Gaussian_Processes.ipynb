{
  "nbformat": 4,
  "nbformat_minor": 0,
  "metadata": {
    "colab": {
      "name": "Gaussian Processes",
      "provenance": [],
      "collapsed_sections": [
        "6bVFjkpCLHYM",
        "xhNT2kA1hoxy",
        "JqxNZGznlGYp",
        "0nwaVyYzmmhF"
      ],
      "include_colab_link": true
    },
    "kernelspec": {
      "name": "python3",
      "display_name": "Python 3"
    }
  },
  "cells": [
    {
      "cell_type": "markdown",
      "metadata": {
        "id": "view-in-github",
        "colab_type": "text"
      },
      "source": [
        "<a href=\"https://colab.research.google.com/github/dlsun/Stat350F19/blob/master/Gaussian_Processes.ipynb\" target=\"_parent\"><img src=\"https://colab.research.google.com/assets/colab-badge.svg\" alt=\"Open In Colab\"/></a>"
      ]
    },
    {
      "cell_type": "code",
      "metadata": {
        "id": "ELU6Wt3HJaFN",
        "colab_type": "code",
        "colab": {},
        "cellView": "form"
      },
      "source": [
        "#@title Import Symbulate\n",
        "!pip install -q symbulate\n",
        "from symbulate import *"
      ],
      "execution_count": 0,
      "outputs": []
    },
    {
      "cell_type": "markdown",
      "metadata": {
        "id": "6bVFjkpCLHYM",
        "colab_type": "text"
      },
      "source": [
        "# Gaussian Processes\n",
        "\n",
        "$\\def\\Cov{\\text{Cov}}\n",
        "\\def\\Var{\\text{Var}}$\n",
        "\n",
        "A random process $\\{ X_t \\}$ is called a **Gaussian process** if:\n",
        "- $X_t$ has a normal (Gaussian) distribution for every $t$.\n",
        "- $(X_s, X_t)$ is bivariate normal for every $s$ and $t$.\n",
        "- $(X_{t_1}, ..., X_{t_n})$ is multivariate normal for any times $t_1, ..., t_n$.\n",
        "\n",
        "Are Gaussian processes continuous-time or discrete-time? Are they continuous-valued or discrete-valued?"
      ]
    },
    {
      "cell_type": "markdown",
      "metadata": {
        "id": "gzdugg1hiCS7",
        "colab_type": "text"
      },
      "source": [
        "Gaussian processes are always continuous-valued, but they can be either \n",
        "continuous-time or discrete-time."
      ]
    },
    {
      "cell_type": "markdown",
      "metadata": {
        "id": "RiOgj-qjiaqY",
        "colab_type": "text"
      },
      "source": [
        "A Gaussian process is uniquely determined by its mean function $\\mu(t)$ and autocovariance function $C(s, t)$."
      ]
    },
    {
      "cell_type": "markdown",
      "metadata": {
        "id": "xhNT2kA1hoxy",
        "colab_type": "text"
      },
      "source": [
        "## Examples of Gaussian Processes"
      ]
    },
    {
      "cell_type": "markdown",
      "metadata": {
        "id": "3RXhzcVxiyst",
        "colab_type": "text"
      },
      "source": [
        "\\begin{align}\n",
        "\\mu(t) &= 0 & C(s, t) &= 2 e^{-(s-t)^2 / 2}\n",
        "\\end{align}"
      ]
    },
    {
      "cell_type": "code",
      "metadata": {
        "id": "nA7lTVW9iflQ",
        "colab_type": "code",
        "colab": {}
      },
      "source": [
        "def mean(t):\n",
        "  return 0\n",
        "\n",
        "def cov(s, t):\n",
        "  return 2 * exp(-(s - t) ** 2 / 2)\n",
        "\n",
        "X = GaussianProcess(mean_func=mean, cov_func=cov)\n",
        "X.draw().plot()\n",
        "X.draw().plot()\n",
        "X.draw().plot()"
      ],
      "execution_count": 0,
      "outputs": []
    },
    {
      "cell_type": "markdown",
      "metadata": {
        "id": "updNH2GOi6yW",
        "colab_type": "text"
      },
      "source": [
        "\\begin{align}\n",
        "\\mu(t) &= 0 & C(s, t) &= 2 e^{-|s - t| / 2}\n",
        "\\end{align}"
      ]
    },
    {
      "cell_type": "code",
      "metadata": {
        "id": "j4-efexTisjF",
        "colab_type": "code",
        "colab": {}
      },
      "source": [
        "def mean(t):\n",
        "  return 0\n",
        "\n",
        "def cov(s, t):\n",
        "  return 2 * exp(-abs(s - t) / 2)\n",
        "\n",
        "X = GaussianProcess(mean_func=mean, cov_func=cov)\n",
        "X.draw().plot()\n",
        "X.draw().plot()\n",
        "X.draw().plot()"
      ],
      "execution_count": 0,
      "outputs": []
    },
    {
      "cell_type": "markdown",
      "metadata": {
        "id": "Lt6HKBq_jH_s",
        "colab_type": "text"
      },
      "source": [
        "\\begin{align}\n",
        "\\mu(t) &= 0 & C(s, t) &= 0.2 s t\n",
        "\\end{align}"
      ]
    },
    {
      "cell_type": "code",
      "metadata": {
        "id": "cAuFxsP4i_NU",
        "colab_type": "code",
        "colab": {}
      },
      "source": [
        "def mean(t):\n",
        "  return 0\n",
        "\n",
        "def cov(s, t):\n",
        "  return 0.2 * s * t\n",
        "\n",
        "X = GaussianProcess(mean_func=mean, cov_func=cov)\n",
        "X.draw().plot()\n",
        "X.draw().plot()\n",
        "X.draw().plot()"
      ],
      "execution_count": 0,
      "outputs": []
    },
    {
      "cell_type": "markdown",
      "metadata": {
        "id": "GLlDws0WjYSo",
        "colab_type": "text"
      },
      "source": [
        "\\begin{align}\n",
        "\\mu(t) &= 0 & C(s, t) &= 0.5 \\min(s, t)\n",
        "\\end{align}"
      ]
    },
    {
      "cell_type": "code",
      "metadata": {
        "id": "BCJYVhgzjMuB",
        "colab_type": "code",
        "colab": {}
      },
      "source": [
        "def mean(t):\n",
        "  return 0\n",
        "\n",
        "def cov(s, t):\n",
        "  return 0.5 * min(s, t)\n",
        "\n",
        "X = GaussianProcess(mean_func=mean, cov_func=cov)\n",
        "X.draw().plot()\n",
        "X.draw().plot()\n",
        "X.draw().plot()"
      ],
      "execution_count": 0,
      "outputs": []
    },
    {
      "cell_type": "markdown",
      "metadata": {
        "id": "l6oZK5YdjkJj",
        "colab_type": "text"
      },
      "source": [
        "# Calculations with Gaussian Processes"
      ]
    },
    {
      "cell_type": "markdown",
      "metadata": {
        "id": "s9Zr3uyIjr0e",
        "colab_type": "text"
      },
      "source": [
        "Let $\\{ X(t) \\}$ be a _stationary_ Gaussian process with mean function $\\mu_X(t) = -1$ and autocovariance function $C_X(\\Delta t) = 4e^{-(\\Delta t)^2 / 2}$."
      ]
    },
    {
      "cell_type": "markdown",
      "metadata": {
        "id": "JqxNZGznlGYp",
        "colab_type": "text"
      },
      "source": [
        "## Question 1\n",
        "\n",
        "What is $P(X(5) > 1)$?"
      ]
    },
    {
      "cell_type": "markdown",
      "metadata": {
        "id": "BoYyRkc0lKad",
        "colab_type": "text"
      },
      "source": [
        "Since $\\{ X(t) \\}$ is a Gaussian process, $X(5)$ has a Gaussian (a.k.a. normal) distribution. To calculate probabilities with a normal distribution, we need to know its mean and standard deviation.\n",
        "\n",
        "\\begin{align}\n",
        "E[X(5)] &= \\mu(5) = -1 \\\\\n",
        "\\Var[X(5)] &= \\Cov[X(5), X(5)] \\\\\n",
        "&= C(5 - 5) \\\\\n",
        "&= 4 e^{-0^2 / 2} \\\\\n",
        "&= 4 \\\\\n",
        "SD[X(5)] &= \\sqrt{4} = 2\n",
        "\\end{align}\n",
        "\n",
        "So $X(5) \\sim \\text{Normal}(\\mu=-1, \\sigma=2)$. We can use Symbulate to calculate $P(X(5) > 1)$."
      ]
    },
    {
      "cell_type": "code",
      "metadata": {
        "id": "tjoc_QTsmcQM",
        "colab_type": "code",
        "colab": {}
      },
      "source": [
        "1 - Normal(mean=-1, sd=2).cdf(1)"
      ],
      "execution_count": 0,
      "outputs": []
    },
    {
      "cell_type": "markdown",
      "metadata": {
        "id": "Tvs4Yty8mdWo",
        "colab_type": "text"
      },
      "source": [
        "Let's check this answer by simulation."
      ]
    },
    {
      "cell_type": "code",
      "metadata": {
        "id": "lk7Q4sH5jWZJ",
        "colab_type": "code",
        "colab": {}
      },
      "source": [
        "def mean(t):\n",
        "  return -1\n",
        "\n",
        "def cov(s, t):\n",
        "  return 4 * exp(-(s - t) ** 2 / 2)\n",
        "\n",
        "X = GaussianProcess(mean_func=mean, cov_func=cov)\n",
        "\n",
        "x5 = X(5).sim(10000)\n",
        "x5.plot()\n",
        "(x5 > 1).mean()"
      ],
      "execution_count": 0,
      "outputs": []
    },
    {
      "cell_type": "markdown",
      "metadata": {
        "id": "0nwaVyYzmmhF",
        "colab_type": "text"
      },
      "source": [
        "## Question 2\n",
        "\n",
        "What is $P(X(5) - X(3) > 1)$?"
      ]
    },
    {
      "cell_type": "markdown",
      "metadata": {
        "id": "HrDtSVhSlyNR",
        "colab_type": "text"
      },
      "source": [
        "Since $\\{ X(t) \\}$ is a Gaussian process, $(X(5), X(3))$ has a bivariate normal distribution. Furthermore, $X(5) - X(3)$ is a linear combination of a bivariate normal, and we know that linear combinations of a bivariate normal are themselves normal. \n",
        "\n",
        "So to calculate the probability, we just need to know the mean and standard deviation of $X(5) - X(3)$.\n",
        "\n",
        "\\begin{align}\n",
        "E[X(5) - X(3)] &= E[X(5)] - E[X(3)] = \\mu(5) - \\mu(3) = (-1) - (-1) = 0\\\\\n",
        "\\Var[X(5) - X(3)] &= \\Cov[X(5) - X(3), X(5) - X(3)] \\\\\n",
        "&= \\Cov[X(5), X(5)] - 2 \\cdot \\Cov[X(5), X(3)] + \\Cov[X(3), X(3)]  \\\\\n",
        "&= C(5 - 5) - 2 \\cdot C(5 - 3) + C(3 - 3) \\\\\n",
        "&= 4 e^{-0^2 / 2} - 2 \\cdot 4 e^{-2^2 / 2} + 4 e^{-0^2 / 2} \\\\\n",
        "&= 8(1 - e^{-2}) \\\\\n",
        "\\text{SD}[X(5)] &= \\sqrt{8(1 - e^{-2})}\n",
        "\\end{align}\n",
        "\n",
        "So $X(5) - X(3) \\sim \\text{Normal}(\\mu=0, \\sigma=\\sqrt{8(1 - e^{-2})})$. We can use Symbulate to calculate $P(X(5) - X(3) > 1)$."
      ]
    },
    {
      "cell_type": "code",
      "metadata": {
        "id": "aS4OsbPUoK0E",
        "colab_type": "code",
        "colab": {}
      },
      "source": [
        "1 - Normal(mean=0, sd=sqrt(8 * (1 - exp(-2)))).cdf(1)"
      ],
      "execution_count": 0,
      "outputs": []
    },
    {
      "cell_type": "markdown",
      "metadata": {
        "id": "FWrNpUdzoLDw",
        "colab_type": "text"
      },
      "source": [
        "Now let's check the answer by simulation. Note that `X` is defined in the previous simulation."
      ]
    },
    {
      "cell_type": "code",
      "metadata": {
        "id": "82jBo2lcnvIX",
        "colab_type": "code",
        "colab": {}
      },
      "source": [
        "diff = (X(5) - X(3)).sim(10000)\n",
        "diff.plot()\n",
        "(diff > 1).mean()"
      ],
      "execution_count": 0,
      "outputs": []
    }
  ]
}