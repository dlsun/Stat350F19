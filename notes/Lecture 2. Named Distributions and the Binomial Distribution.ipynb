{
 "cells": [
  {
   "cell_type": "code",
   "execution_count": null,
   "metadata": {
    "colab": {
     "base_uri": "https://localhost:8080/",
     "height": 329
    },
    "colab_type": "code",
    "id": "V--R0JHLIKVX",
    "outputId": "e99f90d0-da61-476b-e086-db6056365d35"
   },
   "outputs": [],
   "source": [
    "!pip install -q symbulate\n",
    "from symbulate import *\n",
    "%matplotlib inline"
   ]
  },
  {
   "cell_type": "markdown",
   "metadata": {},
   "source": [
    "# Named Distributions\n",
    "\n",
    "We've seen how the distribution of a random variable $X$ is described by its p.m.f.\n",
    "\n",
    "$$ p[x] \\overset{\\text{def}}{=} P(X = x), $$\n",
    "\n",
    "which is a function describing the probability that the random variable $X$ takes on different values.\n",
    "\n",
    "Some distributions arise so frequently that they have names. For example, a random variable $X$ that only takes on two possible values, 0 and 1, is said to follow a **Bernoulli distribution**. Its p.m.f. is \n",
    "\n",
    "$$ p[x] = \\begin{cases} 1 - p & x = 0 \\\\ p & x = 1 \\\\ 0 & \\text{otherwise} \\end{cases}. $$\n",
    "\n",
    "To completely specify this distribution, we need to specify the value of $p$, which is called a **parameter** of the Bernoulli distribution."
   ]
  },
  {
   "cell_type": "markdown",
   "metadata": {},
   "source": [
    "# The Binomial Distribution\n",
    "\n",
    "To appreciate the usefulness of named distributions, let's consider a more complex example. Suppose we draw $n$ tickets, with replacement, from the following box:\n",
    "\n",
    "$$ \\fbox{$\\overbrace{\\underbrace{\\fbox{0}\\ \\fbox{0}\\ \\cdots\\ \\fbox{0}}_{\\text{$N_0$ tickets}}\\ \\underbrace{\\fbox{1}\\ \\fbox{1}\\ \\cdots\\ \\fbox{1}}_{\\text{$N_1$ tickets}}}^{\\text{$N$ tickets}}$}. $$\n",
    "\n",
    "The _number of $\\fbox{1}$s_ we get in these $n$ draws is a random variable. It is said to follow a $\\text{Binomial}(n, N_1, N_0)$ distribution. What is the p.m.f. of this distribution?"
   ]
  },
  {
   "cell_type": "markdown",
   "metadata": {},
   "source": [
    "## A Special Case\n",
    "\n",
    "To be concrete, let's first suppose $X \\sim \\text{Binomial}(n=5, N_1=4, N_0=6)$ and calculate $p[2]$. That is, we consider the probability we get exactly 2 $\\fbox{1}$s in $5$ draws with replacement from the following box:\n",
    "\n",
    "$$ \\fbox{$\\overbrace{\\underbrace{\\fbox{0}\\ \\fbox{0}\\ \\fbox{0}\\ \\fbox{0}\\ \\fbox{0}\\ \\fbox{0}}_{\\text{$N_0 = 6$}}\\ \\underbrace{\\fbox{1}\\ \\fbox{1}\\ \\fbox{1}\\ \\fbox{1}}_{\\text{$N_1=4$}}}^{\\text{$N=10$}}$}. $$\n",
    "\n",
    "There are $10 \\times 10 \\times 10 \\times 10 \\times 10 = 10^5$ equally likely ways to draw 5 tickets from this box. How many of them result in exactly 2 $\\fbox{1}$s, our event of interest?\n",
    "\n",
    "One possibility is to draw the 2 $\\fbox{1}$s first, followed by 3 $\\fbox{0}$s, i.e., \n",
    "\n",
    "$$ \\fbox{1}\\ \\fbox{1}\\ \\fbox{0}\\ \\fbox{0}\\ \\fbox{0}. $$ \n",
    "\n",
    "The number of outcomes like this is \n",
    "\n",
    "$$ 4 \\times 4 \\times 6 \\times 6 \\times 6 = 4^2 \\cdot 6^3. $$"
   ]
  },
  {
   "cell_type": "markdown",
   "metadata": {},
   "source": [
    "But maybe the 2 $\\fbox{1}$s and 3 $\\fbox{0}$s were observed in some other order, like \n",
    "\n",
    "$$ \\fbox{0}\\ \\fbox{1}\\ \\fbox{0}\\ \\fbox{0}\\ \\fbox{1}. $$ \n",
    "\n",
    "The number of outcomes like this is \n",
    "\n",
    "$$ 6 \\times 4 \\times 6 \\times 6 \\times 4 = 4^2 \\cdot 6^3. $$\n",
    "\n",
    "**No matter how the 2 $\\fbox{1}$s and 3 $\\fbox{0}$s are arranged, there will be $4^2 \\cdot 6^3$ such outcomes.**"
   ]
  },
  {
   "cell_type": "markdown",
   "metadata": {},
   "source": [
    "Therefore, the number of ways of getting exactly 2 $\\fbox{1}$s is \n",
    "\n",
    "\\begin{align*}\n",
    "(\\text{# ways to get 2 $\\fbox{1}$s in 5 draws}) &= (\\text{# ways to arrange 2 $\\fbox{1}$s and 3 $\\fbox{0}$s}) \\cdot 4^2 \\cdot 6^3 \\\\\n",
    "&= \\binom{5}{2} \\cdot 4^2 \\cdot 6^3\n",
    "\\end{align*}\n",
    "\n",
    "To convert this to a probability, we simply divide by the total number of outcomes:\n",
    "\n",
    "$$ P(X = 2) =  \\frac{\\binom{5}{2} \\cdot 4^2 \\cdot 6^3}{10^5}. $$"
   ]
  },
  {
   "cell_type": "markdown",
   "metadata": {},
   "source": [
    "## The General Case\n",
    "\n",
    "Now let's generalize the derivation above to general $n$, $N_1$, and $N_0$. (In the example above, $n = 5$, $N_1 = 4$ and $N_0 = 6$.) The probability of getting exactly $x$ $\\fbox{1}$s is \n",
    "\n",
    "$$ p[x] = P(X = x) = \\frac{\\binom{n}{x} N_1^x N_0^{n-x}}{N^n}. $$\n",
    "\n",
    "Notice that this formula can be rewritten in terms of $p = N_1 / N$:\n",
    "\n",
    "\\begin{align*}\n",
    "P(X = x) &= \\frac{\\binom{n}{x} N_1^x N_0^{n-x}}{N^n} \\\\\n",
    "&= \\binom{n}{x} \\frac{ N_1^x N_0^{n-x}}{N^x N^{n-x}} \\\\\n",
    "&= \\binom{n}{x} p^x (1 - p)^{n-x}.\n",
    "\\end{align*}\n",
    "\n",
    "This is the more common way of expressing the p.m.f. of the binomial.\n",
    "\n",
    "Once you specify the parameters of the binomial distribution, you can plot or evaluate its p.m.f. in Symbulate:"
   ]
  },
  {
   "cell_type": "code",
   "execution_count": null,
   "metadata": {},
   "outputs": [],
   "source": [
    "Binomial(n=5, p=.4).plot()"
   ]
  },
  {
   "cell_type": "code",
   "execution_count": null,
   "metadata": {},
   "outputs": [],
   "source": [
    "Binomial(n=5, p=.4).pdf(2)"
   ]
  },
  {
   "cell_type": "markdown",
   "metadata": {},
   "source": [
    "This is why named distributions are so useful. Once you identify a random variable as following a binomial distribution, you can calculate probabilities by plugging numbers into the formula for the p.m.f. (or have software do it for you)."
   ]
  },
  {
   "cell_type": "markdown",
   "metadata": {
    "colab_type": "text",
    "id": "qbNDy835RHWZ"
   },
   "source": [
    "## Example. Roulette\n",
    "\n",
    "In roulette, the ball is equally likely to land in any one of 38 pockets, which includes 18 red, 18 black, and 2 green. What is the probability the ball lands in a red pocket **at least once** in 4 spins of the roulette wheel? \n",
    "\n",
    "Tips:\n",
    "- Set up a box model, identify the binomial distribution, and use the p.m.f. of the binomial distribution.\n",
    "- There are multiple ways to answer this question. I encourage you to try multiple methods and make sure they agree."
   ]
  },
  {
   "cell_type": "code",
   "execution_count": null,
   "metadata": {},
   "outputs": [],
   "source": [
    "# YOUR CODE HERE"
   ]
  }
 ],
 "metadata": {
  "colab": {
   "collapsed_sections": [],
   "name": "The Binomial Model",
   "provenance": []
  },
  "kernelspec": {
   "display_name": "Python 3",
   "language": "python",
   "name": "python3"
  },
  "language_info": {
   "codemirror_mode": {
    "name": "ipython",
    "version": 3
   },
   "file_extension": ".py",
   "mimetype": "text/x-python",
   "name": "python",
   "nbconvert_exporter": "python",
   "pygments_lexer": "ipython3",
   "version": "3.7.2"
  }
 },
 "nbformat": 4,
 "nbformat_minor": 1
}
