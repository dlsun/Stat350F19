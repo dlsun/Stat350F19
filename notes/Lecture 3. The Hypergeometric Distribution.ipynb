{
 "cells": [
  {
   "cell_type": "code",
   "execution_count": null,
   "metadata": {
    "colab": {
     "base_uri": "https://localhost:8080/",
     "height": 329
    },
    "colab_type": "code",
    "id": "V--R0JHLIKVX",
    "outputId": "e99f90d0-da61-476b-e086-db6056365d35"
   },
   "outputs": [],
   "source": [
    "!pip install -q symbulate\n",
    "from symbulate import *\n",
    "%matplotlib inline"
   ]
  },
  {
   "cell_type": "markdown",
   "metadata": {
    "colab_type": "text",
    "id": "2zZ8-rZGH_PW"
   },
   "source": [
    "# The Hypergeometric Distribution\n",
    "\n",
    "The hypergeometric distribution is very similar to the binomial distribution. We still draw $n$ tickets at random from a box of the form\n",
    "\n",
    "$$ \\fbox{$\\overbrace{\\underbrace{\\fbox{0}\\ \\fbox{0}\\ \\cdots\\ \\fbox{0}}_{\\text{$N_0$ tickets}}\\ \\underbrace{\\fbox{1}\\ \\fbox{1}\\ \\cdots\\ \\fbox{1}}_{\\text{$N_1$ tickets}}}^{\\text{$N$ tickets}}$}. $$\n",
    "\n",
    "The random variable $X$ is still the number of $\\fbox{1}$s we get in those $n$ draws. The only difference is that the draws are now made _without_ replacement. \n",
    "\n",
    "This turns out to be a useful model in many situations. For example, in quality control, a few units (e.g., cars) are randomly sampled for inspection. The inspection process may involve destroying the unit (e.g., a crash test), so it is not physically possible to inspect the same unit twice.\n",
    "\n",
    "For concreteness, let's suppose that we randomly sample 5 cars for inspection, from a production line with 10 defective cars and 90 working cars. Letting $\\fbox{1}$ represent a defective car, we can model the situation as follows:"
   ]
  },
  {
   "cell_type": "code",
   "execution_count": null,
   "metadata": {},
   "outputs": [],
   "source": [
    "model = BoxModel({0: 90, 1: 10}, size=5, replace=False)\n",
    "X = RV(model, sum)\n",
    "xs = X.sim(10000)\n",
    "xs"
   ]
  },
  {
   "cell_type": "markdown",
   "metadata": {},
   "source": [
    "We can approximate the probability of getting exactly 2 defective cars as follows:"
   ]
  },
  {
   "cell_type": "code",
   "execution_count": null,
   "metadata": {},
   "outputs": [],
   "source": [
    "xs.plot()\n",
    "xs.count_eq(2) / 10000"
   ]
  },
  {
   "cell_type": "markdown",
   "metadata": {},
   "source": [
    "In this section, we will derive an exact formula for the p.m.f. of the hypergeometric distribution."
   ]
  },
  {
   "cell_type": "markdown",
   "metadata": {},
   "source": [
    "## A Special Case\n",
    "\n",
    "Before we work out the general form of the p.m.f., let's suppose $X \\sim \\text{Hypergeometric}(n=5, N_1=10, N_0=90)$ and calculate $p[2]$. That is, we calculate the probability of getting exactly 2 $\\fbox{1}$s when we draw $n=5$ tickets without replacement from the box:\n",
    "\n",
    "$$ \\fbox{$\\overbrace{\\underbrace{\\fbox{0}\\ \\fbox{0}\\ ...\\ \\fbox{0}}_{\\text{$N_0 = 90$}}\\ \\underbrace{\\fbox{1}\\ \\fbox{1}\\ ...\\ \\fbox{1}}_{\\text{$N_1=10$}}}^{\\text{$N=100$}}$}. $$\n",
    "\n",
    "In order to calculate probabilities, we need to work with a list of possible outcomes that are equally likely. The 100 tickets all have an equal chance of being drawn, so we imagine numbering the tickets 1 to 100 and choosing 5 at random. We might get an outcome like (51, 37, 13, 95, 60). One question is whether we should record the order in which the draws were made. That is, should the outcome above be counted as different from (13, 37, 51, 60, 95)? \n",
    "\n",
    "- If the order matters, then there are $100 \\times 99 \\times 98 \\times 97 \\times 96 = \\frac{100!}{95!}$ equally likely outcomes.\n",
    "- If the order does not matter, then there are $\\binom{100}{5} = \\frac{100!}{5! 95!}$ equally likely outcomes. \n",
    "\n",
    "We will get the same answer no matter which way we decide to count, but counting _unordered_ outcomes turns out to be easier.\n",
    "\n",
    "How many of the $\\binom{100}{5}$ unordered outcomes have exactly 2 $\\fbox{1}$s?\n",
    "\n",
    "- How many different (unordered) sets of 2 $\\fbox{1}$s can we choose? **Answer:** $\\binom{10}{2}$\n",
    "- How many different (unordered) sets of 3 $\\fbox{0}$s can we choose? **Answer:** $\\binom{90}{3}$\n",
    "\n",
    "These two sets can be mixed and matched in any way, resulting in $\\binom{10}{2} \\times \\binom{90}{3}$ ways to end up with 2 $\\fbox{1}$s.\n",
    "\n",
    "To convert this to a probability, divide by the total number of outcomes:\n",
    "\n",
    "$$ P(X = 2) = \\frac{\\binom{10}{2}  \\binom{90}{3}}{\\binom{100}{5}}. $$\n",
    "\n",
    "The following code calculates this probability."
   ]
  },
  {
   "cell_type": "code",
   "execution_count": null,
   "metadata": {},
   "outputs": [],
   "source": [
    "def choose(n, k):\n",
    "    return factorial(n) / (factorial(k) * factorial(n - k))\n",
    "\n",
    "(choose(10, 2) * choose(90, 3)) / choose(100, 5)"
   ]
  },
  {
   "cell_type": "markdown",
   "metadata": {},
   "source": [
    "## The General Case\n",
    "\n",
    "Now let's extend the derivation above to general $n$, $N_1$, and $N_0$. (Recall that in the example above, $n = 5$, $N_1 = 10$ and $N_0 = 90$.) The probability of getting exactly $x$ $\\fbox{1}$s is \n",
    "\n",
    "$$ p[x] = P(X = x) = \\frac{\\binom{N_1}{x} \\binom{N_0}{n-x}}{\\binom{N}{n}}. $$\n",
    "\n",
    "Unlike the binomial distribution, the hypergeometric distribution depends on the exact values of $N_0$ and $N_1$, not just their relative proportions. Think about why this makes intuitive sense. Remember that in the hypergeometric model, draws are made _without_ replacement. What would have happened if we had started with only $N=10$ tickets in the above example?\n",
    "\n",
    "Once you completely specify the parameters of the hypergeometric distribution, you can use Symbulate to evaluate probabilities:"
   ]
  },
  {
   "cell_type": "code",
   "execution_count": null,
   "metadata": {},
   "outputs": [],
   "source": [
    "Hypergeometric(n=5, N1=10, N0=90).pdf(2)"
   ]
  }
 ],
 "metadata": {
  "colab": {
   "collapsed_sections": [],
   "name": "The Hypergeometric Model",
   "provenance": []
  },
  "kernelspec": {
   "display_name": "Python 3",
   "language": "python",
   "name": "python3"
  },
  "language_info": {
   "codemirror_mode": {
    "name": "ipython",
    "version": 3
   },
   "file_extension": ".py",
   "mimetype": "text/x-python",
   "name": "python",
   "nbconvert_exporter": "python",
   "pygments_lexer": "ipython3",
   "version": "3.7.2"
  }
 },
 "nbformat": 4,
 "nbformat_minor": 1
}
