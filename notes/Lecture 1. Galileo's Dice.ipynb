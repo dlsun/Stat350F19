{
 "cells": [
  {
   "cell_type": "markdown",
   "metadata": {},
   "source": [
    "# Galileo's Dice\n",
    "\n",
    "In 1620, Galileo (yes, that Galileo) published a paper on a question that had puzzled gamblers of his day: why were you more likely to get a total of 10 than a total of 9 when you roll three dice?\n",
    "\n",
    "Let's start by rolling some dice to verify that this is true. Fortunately, unlike the gamblers of Galileo's time, we can very quickly simulate many dice rolls on a computer."
   ]
  },
  {
   "cell_type": "code",
   "execution_count": null,
   "metadata": {},
   "outputs": [],
   "source": [
    "!pip install -q symbulate\n",
    "from symbulate import *\n",
    "NSIM = 10000"
   ]
  },
  {
   "cell_type": "markdown",
   "metadata": {},
   "source": [
    "First, we set up a box model for rolling three dice."
   ]
  },
  {
   "cell_type": "code",
   "execution_count": null,
   "metadata": {},
   "outputs": [],
   "source": [
    "model = BoxModel([1, 2, 3, 4, 5, 6], size=3, replace=True)\n",
    "model.sim(5)"
   ]
  },
  {
   "cell_type": "markdown",
   "metadata": {},
   "source": [
    "We are interested in the sum of the three rolls. We will define a **random variable**, which takes three rolls and sums their values."
   ]
  },
  {
   "cell_type": "code",
   "execution_count": null,
   "metadata": {},
   "outputs": [],
   "source": [
    "X = RV(model, sum)\n",
    "X.sim(5)"
   ]
  },
  {
   "cell_type": "markdown",
   "metadata": {},
   "source": [
    "We carry out a large number of simulations of $X$ and tabulate the number of each outcome."
   ]
  },
  {
   "cell_type": "code",
   "execution_count": null,
   "metadata": {},
   "outputs": [],
   "source": [
    "X.sim(NSIM).tabulate()"
   ]
  },
  {
   "cell_type": "markdown",
   "metadata": {},
   "source": [
    "Indeed, a sum of 10 seems (slightly) more likely than a sum of 9."
   ]
  },
  {
   "cell_type": "markdown",
   "metadata": {},
   "source": [
    "People were confused by this, as it seems that there are six ways to get a sum of 9, if you ignore the order of the dice:\n",
    "\n",
    "- 3 + 3 + 3\n",
    "- 2 + 3 + 4\n",
    "- 2 + 2 + 5\n",
    "- 1 + 4 + 4\n",
    "- 1 + 3 + 5\n",
    "- 1 + 2 + 6\n",
    "\n",
    "and also six ways to get a sum of 10:\n",
    "\n",
    "- 3 + 3 + 4\n",
    "- 2 + 4 + 4\n",
    "- 2 + 3 + 5\n",
    "- 2 + 2 + 6\n",
    "- 1 + 4 + 5\n",
    "- 1 + 3 + 6\n",
    "\n",
    "So shouldn't they be equally likely? \n",
    "\n",
    "To dig into this mystery, let's tabulate the outcomes of the three rolls, ignoring the order."
   ]
  },
  {
   "cell_type": "code",
   "execution_count": null,
   "metadata": {},
   "outputs": [],
   "source": [
    "model = BoxModel(list(range(1, 7)), size=3, order_matters=False)\n",
    "table = model.sim(NSIM).tabulate()\n",
    "table"
   ]
  },
  {
   "cell_type": "markdown",
   "metadata": {},
   "source": [
    "Maybe you notice something already. Let's look at the probabilities of three possible outcomes that all produce a sum of 9."
   ]
  },
  {
   "cell_type": "code",
   "execution_count": null,
   "metadata": {},
   "outputs": [],
   "source": [
    "table[(2, 3, 4)] / NSIM, table[(1, 4, 4)] / NSIM, table[(3, 3, 3)] / NSIM"
   ]
  },
  {
   "cell_type": "markdown",
   "metadata": {},
   "source": [
    "Can you finish off the argument?"
   ]
  }
 ],
 "metadata": {
  "kernelspec": {
   "display_name": "Python 3",
   "language": "python",
   "name": "python3"
  },
  "language_info": {
   "codemirror_mode": {
    "name": "ipython",
    "version": 3
   },
   "file_extension": ".py",
   "mimetype": "text/x-python",
   "name": "python",
   "nbconvert_exporter": "python",
   "pygments_lexer": "ipython3",
   "version": "3.6.8"
  }
 },
 "nbformat": 4,
 "nbformat_minor": 2
}
