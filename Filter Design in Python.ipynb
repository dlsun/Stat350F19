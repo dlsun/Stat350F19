{
  "nbformat": 4,
  "nbformat_minor": 0,
  "metadata": {
    "anaconda-cloud": {},
    "kernelspec": {
      "display_name": "Python 3",
      "language": "python",
      "name": "python3"
    },
    "language_info": {
      "codemirror_mode": {
        "name": "ipython",
        "version": 3
      },
      "file_extension": ".py",
      "mimetype": "text/x-python",
      "name": "python",
      "nbconvert_exporter": "python",
      "pygments_lexer": "ipython3",
      "version": "3.6.3"
    },
    "colab": {
      "name": "Filter Design in Python.ipynb",
      "provenance": [],
      "include_colab_link": true
    }
  },
  "cells": [
    {
      "cell_type": "markdown",
      "metadata": {
        "id": "view-in-github",
        "colab_type": "text"
      },
      "source": [
        "<a href=\"https://colab.research.google.com/github/dlsun/Stat350F19/blob/master/Filter%20Design%20in%20Python.ipynb\" target=\"_parent\"><img src=\"https://colab.research.google.com/assets/colab-badge.svg\" alt=\"Open In Colab\"/></a>"
      ]
    },
    {
      "cell_type": "code",
      "metadata": {
        "id": "zQ73iaHNByXN",
        "colab_type": "code",
        "cellView": "form",
        "colab": {}
      },
      "source": [
        "#@title Import Plotting\n",
        "import numpy as np\n",
        "import matplotlib.pyplot as plt\n",
        "%matplotlib inline"
      ],
      "execution_count": 0,
      "outputs": []
    },
    {
      "cell_type": "code",
      "metadata": {
        "id": "CtShNmrPB7M3",
        "colab_type": "code",
        "cellView": "form",
        "colab": {}
      },
      "source": [
        "#@title Import Audio\n",
        "from IPython.display import Audio\n",
        "from scipy.io import wavfile\n",
        "from io import BytesIO"
      ],
      "execution_count": 0,
      "outputs": []
    },
    {
      "cell_type": "markdown",
      "metadata": {
        "id": "mfOdQiKmByXT",
        "colab_type": "text"
      },
      "source": [
        "## Generating a Signal\n",
        "\n",
        "First, let's generate a signal with frequencies 256 Hz and 554 Hz in equal parts."
      ]
    },
    {
      "cell_type": "code",
      "metadata": {
        "id": "DoMWdv4kByXU",
        "colab_type": "code",
        "colab": {}
      },
      "source": [
        "fs = 8000\n",
        "t = np.arange(0, 5, step=1. / fs)\n",
        "x = np.sin(2 * np.pi * 256 * t) + np.sin(2 * np.pi * 554 * t)\n",
        "\n",
        "plt.plot(t, x)\n",
        "plt.xlim(0, .1)"
      ],
      "execution_count": 0,
      "outputs": []
    },
    {
      "cell_type": "markdown",
      "metadata": {
        "id": "AlEaIrKLByXX",
        "colab_type": "text"
      },
      "source": [
        "You can use the `Audio()` function inside `IPython.display` to listen to any signal. Don't forget to specify the sampling rate."
      ]
    },
    {
      "cell_type": "code",
      "metadata": {
        "id": "KwjhwU-vByXY",
        "colab_type": "code",
        "colab": {}
      },
      "source": [
        "Audio(x, rate=fs)"
      ],
      "execution_count": 0,
      "outputs": []
    },
    {
      "cell_type": "markdown",
      "metadata": {
        "id": "nANCKwtzByXa",
        "colab_type": "text"
      },
      "source": [
        "## Frequency Analysis of the Signal"
      ]
    },
    {
      "cell_type": "markdown",
      "metadata": {
        "id": "6Q2nIiftByXc",
        "colab_type": "text"
      },
      "source": [
        "`np.fft.fft` is an implementation of the Fast Fourier Transform (FFT), which is an efficient algorithm for calculating the Discrete Fourier Transform (DFT).\n",
        "\n",
        "If you pass in a time-domain signal of length $N$ to `np.fft.fft`, you will get back a frequency-domain signal of length $N$. \n",
        "- The first $\\frac{N}{2}$ samples in the frequency domain represent the DFT values at equally spaced _positive_ frequencies in $[0, f_s / 2)$.\n",
        "- The last $\\frac{N}{2}$ samples represent the DFT values at equally spaced _negative_ frequencies in $[-f_s / 2, 0)$.\n",
        "\n",
        "If the time-domain signal is real-valued, then the DFT values at negative frequencies will be the complex conjugates of the DFT values at positive frequencies. So all of the information is contained in the first half of the DFT for a real-valued signal."
      ]
    },
    {
      "cell_type": "code",
      "metadata": {
        "id": "f-N8grmGByXd",
        "colab_type": "code",
        "colab": {}
      },
      "source": [
        "X = np.fft.fft(x)\n",
        "X"
      ],
      "execution_count": 0,
      "outputs": []
    },
    {
      "cell_type": "markdown",
      "metadata": {
        "id": "PcmU-BFGByXh",
        "colab_type": "text"
      },
      "source": [
        "Since the values of the DFT are complex numbers, we often examine the magnitude or the power (magnitude squared) of these numbers."
      ]
    },
    {
      "cell_type": "code",
      "metadata": {
        "id": "Gdt8cW2JByXi",
        "colab_type": "code",
        "colab": {}
      },
      "source": [
        "X_pow = np.abs(X) ** 2\n",
        "plt.plot(X_pow)"
      ],
      "execution_count": 0,
      "outputs": []
    },
    {
      "cell_type": "markdown",
      "metadata": {
        "id": "TivLXGnnByXl",
        "colab_type": "text"
      },
      "source": [
        "So far, we have only plotted the values of the DFT. Let's recreate this plot with the correct frequencies on the $x$-axis by defining `f_pos` to be an array of $N / 2$ equally spaced frequencies between $0$ and $f_s / 2$."
      ]
    },
    {
      "cell_type": "code",
      "metadata": {
        "id": "rrCC_ypDByXl",
        "colab_type": "code",
        "colab": {}
      },
      "source": [
        "N = len(x)\n",
        "f_pos = np.arange(0, fs / 2, step=fs / N)\n",
        "plt.plot(f_pos, X_pow[:(N // 2)])\n",
        "\n",
        "N, len(f_pos)"
      ],
      "execution_count": 0,
      "outputs": []
    },
    {
      "cell_type": "markdown",
      "metadata": {
        "id": "SdlfEnfOByXo",
        "colab_type": "text"
      },
      "source": [
        "Now let's add the negative frequencies as well."
      ]
    },
    {
      "cell_type": "code",
      "metadata": {
        "id": "JbAlQRjZByXo",
        "colab_type": "code",
        "colab": {}
      },
      "source": [
        "N = len(x)\n",
        "\n",
        "# Plot the positive frequencies.\n",
        "f_pos = np.arange(0, fs / 2, step=fs / N)\n",
        "plt.plot(f_pos, X_pow[:(N // 2)])\n",
        "\n",
        "# Plot the negative frequencies.\n",
        "f_neg = np.arange(-fs / 2, 0, step=fs / N)\n",
        "plt.plot(f_neg, X_pow[(N // 2):])\n",
        "\n",
        "# Now we can label the x-axis.\n",
        "plt.xlabel(\"Frequency (Hz)\")"
      ],
      "execution_count": 0,
      "outputs": []
    },
    {
      "cell_type": "markdown",
      "metadata": {
        "id": "1ZyR5-0gByXr",
        "colab_type": "text"
      },
      "source": [
        "## Designing the Filter\n",
        "\n",
        "Let's design a filter that keeps the 256 Hz sinusoid, but removes the 554 Hz sinusoid.\n",
        "\n",
        "We first design the filter that we want in the frequency domain. A lowpass filter with a cutoff frequency of 400 Hz should do the trick.\n",
        "\n",
        "First, define the transfer function / frequency response $H(f)$ at the positive frequencies $f \\geq 0$."
      ]
    },
    {
      "cell_type": "code",
      "metadata": {
        "id": "I_VjmSIhByXs",
        "colab_type": "code",
        "colab": {}
      },
      "source": [
        "f_pos = np.arange(0, fs / 2, step=fs / N)\n",
        "H_pos = 1. * (f_pos <= 400)\n",
        "plt.plot(f_pos, H_pos)\n",
        "plt.ylim(-.1, 1.1)"
      ],
      "execution_count": 0,
      "outputs": []
    },
    {
      "cell_type": "markdown",
      "metadata": {
        "id": "DvyisQecByXw",
        "colab_type": "text"
      },
      "source": [
        "Now, define the transfer function / frequency response $H(f)$ at the negative frequencies $f < 0$."
      ]
    },
    {
      "cell_type": "code",
      "metadata": {
        "id": "v-s0_VmrByXx",
        "colab_type": "code",
        "colab": {}
      },
      "source": [
        "f_neg = np.arange(-fs / 2, 0, step=fs / N)\n",
        "H_neg = 1. * (f_neg >= -400)\n",
        "plt.plot(f_neg, H_neg)\n",
        "plt.ylim(-.1, 1.1)"
      ],
      "execution_count": 0,
      "outputs": []
    },
    {
      "cell_type": "markdown",
      "metadata": {
        "id": "cgvGMblhByXz",
        "colab_type": "text"
      },
      "source": [
        "Finally, let's combine the frequency response at the positive and negative frequencies. Remember that the negative frequencies go at the _end_, after the positive frequencies."
      ]
    },
    {
      "cell_type": "code",
      "metadata": {
        "id": "6ghKlIyyByX0",
        "colab_type": "code",
        "colab": {}
      },
      "source": [
        "H = np.concatenate([H_pos, H_neg])\n",
        "plt.plot(H)"
      ],
      "execution_count": 0,
      "outputs": []
    },
    {
      "cell_type": "markdown",
      "metadata": {
        "id": "zfqyKIzgByX3",
        "colab_type": "text"
      },
      "source": [
        "Now, we need to convert this frequency-domain filter to the time-domain. To do this, we take the _inverse_ FFT to obtain the impulse response of this filter."
      ]
    },
    {
      "cell_type": "code",
      "metadata": {
        "id": "Z1T9krnnByX3",
        "colab_type": "code",
        "colab": {}
      },
      "source": [
        "h = np.real(np.fft.ifft(H)) # The IFFT should automatically be real-valued. We take np.real just to be safe.\n",
        "plt.plot(h)"
      ],
      "execution_count": 0,
      "outputs": []
    },
    {
      "cell_type": "markdown",
      "metadata": {
        "id": "rp-kBP8AByX6",
        "colab_type": "text"
      },
      "source": [
        "Let's truncate this impulse response to the first 1000 samples (i.e., positive time) and last 1000 samples (i.e., negative time). We also arrange this impulse response in the right order, with the negative times coming first."
      ]
    },
    {
      "cell_type": "code",
      "metadata": {
        "id": "TCIr9JtJByX6",
        "colab_type": "code",
        "colab": {}
      },
      "source": [
        "h_trunc = np.concatenate([h[-1000:], h[:1000]])\n",
        "plt.plot(h_trunc)"
      ],
      "execution_count": 0,
      "outputs": []
    },
    {
      "cell_type": "markdown",
      "metadata": {
        "id": "WzWTvto1ByX9",
        "colab_type": "text"
      },
      "source": [
        "## Applying the Filter\n",
        "\n",
        "Now we apply the filter by convolving the impulse response with the signal."
      ]
    },
    {
      "cell_type": "code",
      "metadata": {
        "id": "Noh1iQjlByX-",
        "colab_type": "code",
        "colab": {}
      },
      "source": [
        "y = np.convolve(x, h_trunc)\n",
        "\n",
        "# y has an odd number of samples, so we lop off the last one.\n",
        "y = y[:-1]"
      ],
      "execution_count": 0,
      "outputs": []
    },
    {
      "cell_type": "code",
      "metadata": {
        "id": "L8RFqtFrByYC",
        "colab_type": "code",
        "colab": {}
      },
      "source": [
        "N = len(y)\n",
        "t = np.arange(0, N / fs, step=1 / fs)\n",
        "plt.plot(t, y)\n",
        "plt.xlim(.3, .4)"
      ],
      "execution_count": 0,
      "outputs": []
    },
    {
      "cell_type": "markdown",
      "metadata": {
        "id": "rTUJivbrByYE",
        "colab_type": "text"
      },
      "source": [
        "Let's do a frequency analysis of this signal."
      ]
    },
    {
      "cell_type": "code",
      "metadata": {
        "id": "Q5iQ-SkZByYF",
        "colab_type": "code",
        "colab": {}
      },
      "source": [
        "f_pos = np.arange(0, fs / 2, step=fs / N)\n",
        "Y = np.fft.fft(y)\n",
        "Y_pow = np.abs(Y) ** 2\n",
        "\n",
        "plt.plot(f_pos, Y_pow[:(N // 2)])"
      ],
      "execution_count": 0,
      "outputs": []
    },
    {
      "cell_type": "markdown",
      "metadata": {
        "id": "CNsa0iEYByYH",
        "colab_type": "text"
      },
      "source": [
        "Finally, let's listen to the filtered signal."
      ]
    },
    {
      "cell_type": "code",
      "metadata": {
        "id": "IW4xhhlMByYI",
        "colab_type": "code",
        "colab": {}
      },
      "source": [
        "Audio(y, rate=fs)"
      ],
      "execution_count": 0,
      "outputs": []
    }
  ]
}