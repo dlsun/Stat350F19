{
  "nbformat": 4,
  "nbformat_minor": 0,
  "metadata": {
    "colab": {
      "name": "LOTUS",
      "provenance": [],
      "collapsed_sections": [
        "ZT3O4pKz3hI5",
        "dx8baA-nE7GQ",
        "On9x3bqXHrob"
      ]
    },
    "kernelspec": {
      "name": "python3",
      "display_name": "Python 3"
    }
  },
  "cells": [
    {
      "cell_type": "code",
      "metadata": {
        "id": "j6p4CzIN3mHz",
        "colab_type": "code",
        "cellView": "form",
        "colab": {}
      },
      "source": [
        "#@title Imports\n",
        "!pip install -q symbulate\n",
        "from symbulate import *"
      ],
      "execution_count": 0,
      "outputs": []
    },
    {
      "cell_type": "markdown",
      "metadata": {
        "id": "ZT3O4pKz3hI5",
        "colab_type": "text"
      },
      "source": [
        "# LOTUS\n",
        "\n",
        "Suppose we generate a sidelength $S$ from a $\\text{Uniform}(a=1, b=3)$ distribution and then draw a square with sidelength $S$. What is the expected area of the square?"
      ]
    },
    {
      "cell_type": "code",
      "metadata": {
        "id": "LCS4yYs-Jq1R",
        "colab_type": "code",
        "colab": {}
      },
      "source": [
        "S = RV(Uniform(1, 3))\n",
        "A = S ** 2\n",
        "\n",
        "S.sim(10000).plot()\n",
        "A.sim(10000).plot()"
      ],
      "execution_count": 0,
      "outputs": []
    },
    {
      "cell_type": "markdown",
      "metadata": {
        "id": "dx8baA-nE7GQ",
        "colab_type": "text"
      },
      "source": [
        "## Method 1. \n",
        "\n",
        "Find the p.d.f. of $A = S^2$. Then calculate $E[A]$ using the formula."
      ]
    },
    {
      "cell_type": "markdown",
      "metadata": {
        "id": "KicrWGebI8MR",
        "colab_type": "text"
      },
      "source": [
        "To find the p.d.f. of $A$, we first find its c.d.f.\n",
        "\\begin{align}\n",
        "F(x) = P(A \\leq x) &= P(S^2 \\leq x) \\\\\n",
        "&= P(S \\leq \\sqrt{x}) \\\\\n",
        "&= \\int_1^{\\sqrt{x}} \\frac{1}{2}\\,ds, & 1 < x < 9 \\\\\n",
        "&= \\frac{1}{2}(\\sqrt{x} - 1), & 1 < x < 9\n",
        "\\end{align}\n",
        "(The c.d.f. is 0 when $x\\leq 1$ and 1 when $x \\geq 9$)\n",
        "\n",
        "So the p.d.f. of $A$ is \n",
        "$$ p(x) = F'(x) = \\frac{1}{4\\sqrt{x}}, 1 < x < 9. $$\n",
        "\n",
        "So the expected value of $A$ is\n",
        "$$ E[A] = \\int_1^9 x\\frac{1}{4\\sqrt{x}}\\,dx = 26 / 6. $$"
      ]
    },
    {
      "cell_type": "markdown",
      "metadata": {
        "id": "On9x3bqXHrob",
        "colab_type": "text"
      },
      "source": [
        "## Method 2. (Much Easier!) \n",
        "\n",
        "Law of the Unconscious Statistician"
      ]
    },
    {
      "cell_type": "markdown",
      "metadata": {
        "id": "ud4X6HHCJBDA",
        "colab_type": "text"
      },
      "source": [
        "Remember that the expected value is just a weighted average. To calculate $E[S^2]$, why not just weight the possible values of $S^2$ by the p.d.f. of $S$?\n",
        "\n",
        "\\begin{align}\n",
        "E[S^2] &= \\int_{-\\infty}^\\infty s^2 p(s)\\,ds \\\\\n",
        "&= \\int_1^3 s^2 \\frac{1}{2}\\,ds \\\\\n",
        "&= 26 / 6.\n",
        "\\end{align}\n",
        "\n",
        "Notice that we were able to calculate the expected value of $A = S^2$ without ever working out the distribution of $A$."
      ]
    },
    {
      "cell_type": "markdown",
      "metadata": {
        "id": "SEpwnUg9I1sA",
        "colab_type": "text"
      },
      "source": [
        "The Law of the Unconscious Statistician (LOTUS) says that\n",
        "\n",
        "$$ E[g(X)] = \\begin{cases} \\sum_x g(x) p_X[x] & \\text{if $X$ is discrete} \\\\ \\int_{-\\infty}^\\infty g(x)p_X(x)\\,dx & \\text{if $X$ is continuous}\\end{cases}. $$\n",
        "\n",
        "This formula is handy when you just need the expected value of $g(X)$, not its distribution."
      ]
    },
    {
      "cell_type": "markdown",
      "metadata": {
        "id": "6T3kpQkBg6xg",
        "colab_type": "text"
      },
      "source": [
        "# Special Cases\n",
        "\n",
        "If we apply LOTUS to a linear function of $X$, $g(X) = aX + b$, we get the following convenient identity:\n",
        "\n",
        "$$ E[aX + b] = aE[X] + b. $$\n",
        "\n",
        "In other words, in this specific case, the expectation of the function is just the function of the expectation. So to calculate $E[aX + b]$, you do not even need to know the distribution of $X$ if you know $E[X]$.\n",
        "\n",
        "However, this is not true in general. Do\n",
        "\n",
        "- $E[X^2] \\neq E[X]^2$. You have to go back to the p.m.f. or p.d.f. and use LOTUS:\n",
        "\\begin{align}\n",
        "E[X^2] &= \\sum_x x^2 p[x] &\\text{or} & & E[X^2] &= \\int_{-\\infty}^\\infty x^2 p(x)\\,dx\n",
        "\\end{align}\n",
        "- $E[\\cos(X)] \\neq \\cos(E[X])$. You have to go back to the p.m.f. or p.d.f. and use LOTUS:\n",
        "\\begin{align}\n",
        "E[\\cos(X)] &= \\sum_x \\cos(x) p[x] &\\text{or} & & E[\\cos(X)] &= \\int_{-\\infty}^\\infty \\cos(x) p(x)\\,dx\n",
        "\\end{align}"
      ]
    }
  ]
}