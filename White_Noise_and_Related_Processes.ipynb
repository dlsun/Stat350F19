{
  "nbformat": 4,
  "nbformat_minor": 0,
  "metadata": {
    "colab": {
      "name": "White Noise and Related Processes",
      "provenance": [],
      "collapsed_sections": [
        "BjG1vgDOt9B_",
        "Bbnw1RgKw3fu",
        "E_QJDMUw0gP9",
        "7lbapkaEtqs9"
      ],
      "include_colab_link": true
    },
    "kernelspec": {
      "name": "python3",
      "display_name": "Python 3"
    }
  },
  "cells": [
    {
      "cell_type": "markdown",
      "metadata": {
        "id": "view-in-github",
        "colab_type": "text"
      },
      "source": [
        "<a href=\"https://colab.research.google.com/github/dlsun/Stat350F19/blob/master/White_Noise_and_Related_Processes.ipynb\" target=\"_parent\"><img src=\"https://colab.research.google.com/assets/colab-badge.svg\" alt=\"Open In Colab\"/></a>"
      ]
    },
    {
      "cell_type": "code",
      "metadata": {
        "id": "lzbTqJnct94V",
        "colab_type": "code",
        "cellView": "form",
        "colab": {}
      },
      "source": [
        "#@title Import Symbulate\n",
        "!pip install -q symbulate\n",
        "from symbulate import *"
      ],
      "execution_count": 0,
      "outputs": []
    },
    {
      "cell_type": "code",
      "metadata": {
        "id": "IiiytmyOuGvG",
        "colab_type": "code",
        "cellView": "form",
        "colab": {}
      },
      "source": [
        "#@title Import Audio\n",
        "from IPython.display import Audio"
      ],
      "execution_count": 0,
      "outputs": []
    },
    {
      "cell_type": "markdown",
      "metadata": {
        "id": "BjG1vgDOt9B_",
        "colab_type": "text"
      },
      "source": [
        "# White Noise and Related Processes"
      ]
    },
    {
      "cell_type": "markdown",
      "metadata": {
        "id": "Yvw1KTD2w7Eq",
        "colab_type": "text"
      },
      "source": [
        "A discrete-time random process $\\{ Z[n] \\}$ is called **white noise** if $Z[0], Z[1], Z[2], \\ldots$ are i.i.d. random variables with $E[Z[n]] = 0$.\n",
        "\n",
        "Let's simulate a white noise process."
      ]
    },
    {
      "cell_type": "code",
      "metadata": {
        "id": "9h7Ksie4uMOu",
        "colab_type": "code",
        "colab": {}
      },
      "source": [
        "Z = RV(Normal(0, 1) ** inf)\n",
        "z = Z.draw()\n",
        "\n",
        "z.plot(tmin=0, tmax=500)\n",
        "z"
      ],
      "execution_count": 0,
      "outputs": []
    },
    {
      "cell_type": "markdown",
      "metadata": {
        "id": "LccHJgUYxQyQ",
        "colab_type": "text"
      },
      "source": [
        "Now let's listen to $0.5$ seconds of a white noise process. A white noise process has roughly equal power at all frequencies."
      ]
    },
    {
      "cell_type": "code",
      "metadata": {
        "id": "GFjJlUIXuYqg",
        "colab_type": "code",
        "colab": {}
      },
      "source": [
        "Audio(z[:4000], rate=8000)"
      ],
      "execution_count": 0,
      "outputs": []
    },
    {
      "cell_type": "markdown",
      "metadata": {
        "id": "Bbnw1RgKw3fu",
        "colab_type": "text"
      },
      "source": [
        "# Random Walk\n",
        "\n",
        "The random walk $\\{ X[n] \\}$ is a process that is defined recursively in terms of white noise.\n",
        "\n",
        "\\begin{align}\n",
        " X[0] &= 0 \\\\\n",
        " X[n] &= X[n-1] + Z[n] & n=1, 2, \\ldots\n",
        "\\end{align}\n",
        "\n",
        "In other words, at each time $n$, we take a random \"step\" $Z[n]$ from our current position $X[n-1]$. \n",
        "\n",
        "Let's simulate a random walk."
      ]
    },
    {
      "cell_type": "code",
      "metadata": {
        "id": "KhMGuMUwxZUn",
        "colab_type": "code",
        "colab": {}
      },
      "source": [
        "P = Normal(0, 1) ** inf\n",
        "Z = RV(P)\n",
        "X = RandomProcess(P)\n",
        "\n",
        "X[0] = 0\n",
        "for n in range(1, 4000):\n",
        "  X[n] = X[n-1] + Z[n]\n",
        "\n",
        "x = X.draw()\n",
        "x.plot(tmin=0, tmax=500)"
      ],
      "execution_count": 0,
      "outputs": []
    },
    {
      "cell_type": "markdown",
      "metadata": {
        "id": "E_QJDMUw0gP9",
        "colab_type": "text"
      },
      "source": [
        "## Exercises\n",
        "\n",
        "Suppose $\\{ X[n] \\}$ is a random walk, where the steps $Z[0], Z[1], Z[2], \\ldots$ are i.i.d. random variables with mean 0 and standard deviation 1.\n",
        "\n",
        "1. What is $E[X[3]]$?\n",
        "2. What is $\\text{Cov}[X[2], X[4]]$?\n",
        "3. How would you calculate $P(X[100] > 10)$?"
      ]
    },
    {
      "cell_type": "markdown",
      "metadata": {
        "id": "yDglI5tM2lTo",
        "colab_type": "text"
      },
      "source": [
        "In general, you can expand $X[n]$ in terms of $Z[1], Z[2], \\ldots$.\n",
        "\n",
        "\\begin{align}\n",
        "X[n] &= \\phantom{X[n-2] + } X[n-1] + Z[n] \\\\\n",
        "&= X[n-2] + Z[n-1] + Z[n] \\\\\n",
        "&= \\ldots \\\\\n",
        "&= Z[0] + Z[1] + \\ldots + Z[n].\n",
        "\\end{align}\n",
        "\n",
        "From this representation, you can use linearity and properties of covariance to answer Questions 1 and 2.\n",
        "\n",
        "As for Question 3, we now see that $X[100]$ is a sum of 100 i.i.d. random variables, so by the Central Limit Theorem, it approximately follows a normal distribution."
      ]
    },
    {
      "cell_type": "markdown",
      "metadata": {
        "id": "7lbapkaEtqs9",
        "colab_type": "text"
      },
      "source": [
        "# Moving Average\n",
        "\n",
        "A moving average process $\\{ X[n] \\}$ is another process that is defined in terms of white noise.\n",
        "\n",
        "\\begin{align}\n",
        " X[n] &= \\theta_0 Z[n] + \\theta_1 Z[n - 1] & n=1, 2, \\ldots\n",
        "\\end{align}\n",
        "\n",
        "In other words, at each time $n$, the value of $X[n]$ is an \"average\" of the values of $Z[n]$ and $Z[n-1]$."
      ]
    },
    {
      "cell_type": "markdown",
      "metadata": {
        "id": "lPK3u3ZK4dul",
        "colab_type": "text"
      },
      "source": [
        "Let's simulate a moving average process where $\\theta_0 = \\theta_1 = 0.5$."
      ]
    },
    {
      "cell_type": "code",
      "metadata": {
        "id": "yB6DEqc-uwCp",
        "colab_type": "code",
        "colab": {}
      },
      "source": [
        "P = Normal(0, 1) ** inf\n",
        "Z = RV(P)\n",
        "X = RandomProcess(P)\n",
        "\n",
        "X[0] = 0\n",
        "for n in range(1, 4000):\n",
        "  X[n] = 0.5 * Z[n] + 0.5 * Z[n - 1]\n",
        "\n",
        "x = X.draw()\n",
        "x.plot(tmin=0, tmax=500)"
      ],
      "execution_count": 0,
      "outputs": []
    },
    {
      "cell_type": "markdown",
      "metadata": {
        "id": "WW1c6sWi2aTg",
        "colab_type": "text"
      },
      "source": [
        "Now let's listen to $0.5$ seconds of a moving average process. How does it compare with the white noise process?"
      ]
    },
    {
      "cell_type": "code",
      "metadata": {
        "id": "AYowvN5ZvFW4",
        "colab_type": "code",
        "colab": {}
      },
      "source": [
        "Audio(x[:4000], rate=8000)"
      ],
      "execution_count": 0,
      "outputs": []
    },
    {
      "cell_type": "markdown",
      "metadata": {
        "colab_type": "text",
        "id": "n4EnShpF4c-C"
      },
      "source": [
        "## Exercises\n",
        "\n",
        "Suppose $\\{ X[n] \\}$ is a moving average process, where $Z[0], Z[1], Z[2], \\ldots$ are i.i.d. random variables with mean 0 and standard deviation 1.\n",
        "\n",
        "1. What is $E[X[3]]$?\n",
        "2. What is $\\text{Var}[X[3]]$?\n",
        "3. What is $\\text{Cov}[X[3], X[4]]$?\n",
        "3. What is $\\text{Cov}[X[3], X[5]]$?"
      ]
    }
  ]
}