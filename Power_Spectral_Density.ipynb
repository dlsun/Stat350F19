{
  "nbformat": 4,
  "nbformat_minor": 0,
  "metadata": {
    "colab": {
      "name": "Power Spectral Density",
      "provenance": [],
      "collapsed_sections": [
        "X4SdcU3-rCu8",
        "Fjs4__1JN2Hv",
        "TSkWNga6sdSj"
      ],
      "include_colab_link": true
    },
    "kernelspec": {
      "name": "python3",
      "display_name": "Python 3"
    }
  },
  "cells": [
    {
      "cell_type": "markdown",
      "metadata": {
        "id": "view-in-github",
        "colab_type": "text"
      },
      "source": [
        "<a href=\"https://colab.research.google.com/github/dlsun/Stat350F19/blob/master/Power_Spectral_Density.ipynb\" target=\"_parent\"><img src=\"https://colab.research.google.com/assets/colab-badge.svg\" alt=\"Open In Colab\"/></a>"
      ]
    },
    {
      "cell_type": "code",
      "metadata": {
        "id": "LVX-oe9ILKBC",
        "colab_type": "code",
        "cellView": "form",
        "colab": {}
      },
      "source": [
        "#@title Plotting Functions\n",
        "import matplotlib.pyplot as plt\n",
        "\n",
        "def plot(f, xlim=(-0.5, 0.5)):\n",
        "  xmin, xmax = xlim\n",
        "  x = np.linspace(xmin, xmax, 1000)\n",
        "  plt.plot(x, f(x), '-')\n",
        "\n",
        "def plot_delta(x, height):\n",
        "  plt.plot([x, x], [0, height], '-', linewidth=2)"
      ],
      "execution_count": 0,
      "outputs": []
    },
    {
      "cell_type": "markdown",
      "metadata": {
        "id": "yOgIk8jAdFpa",
        "colab_type": "text"
      },
      "source": [
        "# Power Spectral Density\n",
        "\n",
        "In the previous lecture, we saw that the average expected power in a stationary process is $C(0) + \\mu^2$. In this lecture, we examine how this power is distributed across frequencies."
      ]
    },
    {
      "cell_type": "markdown",
      "metadata": {
        "id": "X4SdcU3-rCu8",
        "colab_type": "text"
      },
      "source": [
        "## Wiener-Khinchin Theorem\n",
        "\n",
        "The **power spectral density** (PSD) of a stationary process $\\{ X(t) \\}$ with mean $\\mu$ and autocovariance function $C(\\Delta t)$ is the Fourier transform of $C(\\Delta t) + \\mu^2$. The PSD is denoted $S_X(f)$.\n",
        "\n",
        "$$ C(\\Delta t) + \\mu^2 \\overset{\\mathcal{F}}{\\longleftrightarrow} S_X(f) $$\n",
        "\n",
        "For now, just take this to be the definition of the PSD. We'll see later why it makes sense to call $S_X(f)$ the \"power spectral density\"."
      ]
    },
    {
      "cell_type": "markdown",
      "metadata": {
        "id": "10AuzrvVrm3M",
        "colab_type": "text"
      },
      "source": [
        "**Note:** $R(\\Delta t) = C(\\Delta t) + \\mu^2$ is often called the **autocorrelation function**. We will not use this terminology in this class, but you will see it in EE 314."
      ]
    },
    {
      "cell_type": "markdown",
      "metadata": {
        "id": "Fjs4__1JN2Hv",
        "colab_type": "text"
      },
      "source": [
        "# A Continuous Example\n",
        "\n",
        "Suppose $\\{ X(t) \\}$ is a continuous-time Gaussian process with mean function $\\mu(t) = 2$ and autocovariance function \n",
        "$$ C(s, t) = \\begin{cases}\n",
        "10 - 30|s - t| & |s - t| < 1/3 \\\\ 0 & \\text{otherwise} \\end{cases}. $$\n",
        "What is the power spectral density of $\\{ X(t) \\}$?"
      ]
    },
    {
      "cell_type": "markdown",
      "metadata": {
        "id": "QGIbUFCbPnJA",
        "colab_type": "text"
      },
      "source": [
        "$\\DeclareMathOperator{\\sinc}{sinc}\n",
        "\\DeclareMathOperator{\\tri}{tri}$\n",
        "\n",
        "The PSD is the Fourier transform of \n",
        "\n",
        "$$ C(\\Delta t) + \\mu^2 = 10 \\tri(3 \\Delta t) + 2^2 $$\n",
        "\n",
        "which is \n",
        "\n",
        "\\begin{align}\n",
        "S_X(f) &= 10 \\cdot \\frac{1}{3} \\sinc^2(f / 3) + 4 \\delta(f).\n",
        "\\end{align}\n",
        "\n",
        "Let's graph this PSD."
      ]
    },
    {
      "cell_type": "code",
      "metadata": {
        "id": "IcDBr-hfQgQQ",
        "colab_type": "code",
        "colab": {
          "base_uri": "https://localhost:8080/",
          "height": 265
        },
        "outputId": "9768edba-a6e4-4ff7-e471-9c9fb54670f7"
      },
      "source": [
        "import numpy as np\n",
        "\n",
        "def ac(f):\n",
        "  return 10 / 3 * np.sinc(f / 3) ** 2\n",
        "\n",
        "plot(ac, xlim=(-10, 10))\n",
        "plot_delta(0, 4)"
      ],
      "execution_count": 2,
      "outputs": [
        {
          "output_type": "display_data",
          "data": {
            "image/png": "[encoded data removed]",
            "text/plain": [
              "<Figure size 432x288 with 1 Axes>"
            ]
          },
          "metadata": {
            "tags": []
          }
        }
      ]
    },
    {
      "cell_type": "markdown",
      "metadata": {
        "id": "15Jdq28PRnXz",
        "colab_type": "text"
      },
      "source": [
        "One way to check that we've done this correctly is to integrate the PSD over all frequencies. We should get the average expected power, which we know should equal $C_X(0) + \\mu^2 = 10 + 2^2 = 14$.\n",
        "\n",
        "\\begin{align}\n",
        "\\int_{-\\infty}^\\infty S_X(f)\\,df &= \\int_{-\\infty}^\\infty \\frac{10}{3} \\sinc^2(f/3)\\,df + 4 \\\\\n",
        "&= 10 + 4\n",
        "\\end{align}\n",
        "\n",
        "I did [the integral using Wolfram Alpha](https://www.wolframalpha.com/input/?i=integrate+10%2F3+*+%28sin%28pi+*+f%2F3%29+%2F+%28pi+*+f%2F3%29%29%5E2+from+f%3D-infinity+to+infinity). If you use Wolfram Alpha, beware that their $\\sinc$ function is defined differently. I always just type the definition of $\\sinc$ in terms of $\\sin$, just to be safe:\n",
        "\n",
        "$$ \\sinc(x) \\overset{\\text{def}}{=} \\frac{\\sin(\\pi x)}{\\pi x}. $$"
      ]
    },
    {
      "cell_type": "markdown",
      "metadata": {
        "id": "TSkWNga6sdSj",
        "colab_type": "text"
      },
      "source": [
        "# A Discrete Example\n",
        "\n",
        "In the activity, \"All about the MA Process,\" you examined the moving average process \n",
        "\n",
        "$$ X[n] = Z[n] + 0.5 Z[n-1], $$\n",
        "\n",
        "where $\\{ Z[n] \\}$ is a white noise process consisting of i.i.d. $\\text{Normal}(\\mu=0, \\sigma=2)$ random variables.\n",
        "\n",
        "You showed that the mean function is $0$ and the autocovariance function is \n",
        "\n",
        "$$ C[m, n] = 5 \\delta[m-n] + 2 \\delta[m-n-1] + 2 \\delta[m-n+1]. $$\n",
        "\n",
        "Find the power spectral density of $\\{ X[n] \\}$. Use it to find the average expected power below 1000 Hz, if the process is sampled at a rate of $f_s = 8000$ Hz."
      ]
    },
    {
      "cell_type": "markdown",
      "metadata": {
        "id": "ZjuN6oB0Ionf",
        "colab_type": "text"
      },
      "source": [
        "The PSD is the Fourier transform of \n",
        "\n",
        "$$ C[\\Delta n] + \\mu^2 = 5 \\delta[\\Delta n] + 2 \\delta[\\Delta n - 1] + 2 \\delta[\\Delta n + 1] + 0^2 $$\n",
        "\n",
        "which is \n",
        "\n",
        "\\begin{align}\n",
        "S_X(f) &= 5 + 2 e^{-j2\\pi f} + 2 e^{j2\\pi f} \\\\\n",
        "&= 5 + 4 \\cos(2\\pi f) & \\text{(by Euler's formula for complex exponentials)}\n",
        "\\end{align}\n",
        "\n",
        "(The Fourier transform of $\\delta$ is a constant. The $e^{\\pm j2\\pi f}$ factors come from the shift theorem.)\n",
        "\n",
        "Let's plot the power spectral density. Remember, this is a discrete signal, so the Nyquist limit is $0.5$ cycles per sample. So we only plot the PSD between $-0.5$ and $0.5$ cycles per sample."
      ]
    },
    {
      "cell_type": "code",
      "metadata": {
        "id": "Vn_zseo-LCBB",
        "colab_type": "code",
        "colab": {
          "base_uri": "https://localhost:8080/",
          "height": 265
        },
        "outputId": "dbe4a8f0-3dda-428f-f654-8652ff0bbf68"
      },
      "source": [
        "import numpy as np\n",
        "\n",
        "def psd(f):\n",
        "  return 5 + 4 * np.cos(2 * np.pi * f)\n",
        "\n",
        "plot(psd)"
      ],
      "execution_count": 3,
      "outputs": [
        {
          "output_type": "display_data",
          "data": {
            "image/png": "[encoded data removed]",
            "text/plain": [
              "<Figure size 432x288 with 1 Axes>"
            ]
          },
          "metadata": {
            "tags": []
          }
        }
      ]
    },
    {
      "cell_type": "markdown",
      "metadata": {
        "id": "j0QLJMyETR6p",
        "colab_type": "text"
      },
      "source": [
        "Let's also check the PSD by integrating over \"all\" frequencies. (Remember that for discrete signals, we only include frequencies below the Nyquist limit.) We know we should recover the average expected power in the signal, which is $C_X[0] + \\mu^2 = 5 + 0^2 = 5$.\n",
        "\n",
        "$$\\int_{-1/2}^{1/2} S_X(f)\\,df = \\int_{-1/2}^{1/2} 5 + 4 \\cos(2\\pi f)\\,df = 5. $$"
      ]
    },
    {
      "cell_type": "markdown",
      "metadata": {
        "id": "POa0w6n3MV60",
        "colab_type": "text"
      },
      "source": [
        "Now, how do we use $S_X(f)$ to find the average expected power below 1000 Hz (when the process is sampled at $f_s = 8000$ Hz)?\n",
        "\n",
        "We first have to convert 1000 Hz to normalized frequency, $f = 1000 / f_s = 1 / 8$ cycles per sample. Now, we just integrate the PSD below $1/8$. Don't forget the negative frequencies!\n",
        "\n",
        "$$ \\int_{-1/8}^{1/8} S_X(f)\\,df = \\int_{-1/8}^{1/8} 5 + 4\\cos(2\\pi f)\\,df = 2.15 $$"
      ]
    }
  ]
}