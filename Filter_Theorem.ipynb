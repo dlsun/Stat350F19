{
  "nbformat": 4,
  "nbformat_minor": 0,
  "metadata": {
    "colab": {
      "name": "Filter Theorem",
      "provenance": [],
      "collapsed_sections": [
        "irC8hxW9T90L",
        "MpVi78sUUEt-"
      ],
      "include_colab_link": true
    },
    "kernelspec": {
      "name": "python3",
      "display_name": "Python 3"
    }
  },
  "cells": [
    {
      "cell_type": "markdown",
      "metadata": {
        "id": "view-in-github",
        "colab_type": "text"
      },
      "source": [
        "<a href=\"https://colab.research.google.com/github/dlsun/Stat350F19/blob/master/Filter_Theorem.ipynb\" target=\"_parent\"><img src=\"https://colab.research.google.com/assets/colab-badge.svg\" alt=\"Open In Colab\"/></a>"
      ]
    },
    {
      "cell_type": "markdown",
      "metadata": {
        "id": "irC8hxW9T90L",
        "colab_type": "text"
      },
      "source": [
        "# Filter Theorem\n",
        "\n",
        "Suppose the stationary process $\\{ X(t) \\}$ is passed through an LTI filter with impulse response $h$. Then, the output process $\\{ Y(t) \\}$ is also stationary. The power spectral densities of $\\{ X(t) \\}$ and $\\{ Y(t) \\}$ are related by  \n",
        "\n",
        "$$ S_Y(f) = |H(f)|^2 S_X(f), $$\n",
        "\n",
        "where $H = \\mathcal{F}[h]$ is the transfer function of the filter."
      ]
    },
    {
      "cell_type": "markdown",
      "metadata": {
        "id": "97LyBVXXUCAq",
        "colab_type": "text"
      },
      "source": [
        "_Proof._ You already did most of the work in the activity for today. You showed that $\\{Y(t)\\}$ was stationary, with \n",
        "\n",
        "- mean function $\\mu_Y = H(0) \\mu_X$ \n",
        "- autocovariance function $C_Y(\\Delta t) = (h(-t) * h(t) * C_X)(\\Delta t)$\n",
        "\n",
        "The PSD of $\\{ Y(t) \\}$ is the Fourier transform of $C_Y(\\Delta t) + \\mu_Y^2$, or\n",
        "\n",
        "\\begin{align}\n",
        "S_Y(f) &= H^*(f) \\cdot H(f) \\cdot \\mathcal{F}[C_X](f) + H(0)^2 \\mu_X^2 \\delta(f) \\\\\n",
        "&= |H(f)|^2 \\cdot \\mathcal{F}[C_X](f) + |H(f)|^2 \\mu_X^2 \\delta(f) \\\\\n",
        "&= |H(f)|^2 \\cdot \\mathcal{F}[C_X + \\mu_X^2](f) \\\\\n",
        "&= |H(f)|^2 \\cdot S_X(f)\n",
        "\\end{align}"
      ]
    },
    {
      "cell_type": "markdown",
      "metadata": {
        "id": "BPUZzlD9APOE",
        "colab_type": "text"
      },
      "source": [
        "# Applying the Filter Theorem\n",
        "\n",
        "$\\DeclareMathOperator{\\sinc}{sinc}\n",
        "\\DeclareMathOperator{\\tri}{tri}$\n",
        "\n",
        "Previously, we showed that the MA process \n",
        "\n",
        "$$ X[n] = Z[n] + 0.5 Z[n-1] $$\n",
        "\n",
        "had power spectral density\n",
        "\n",
        "\\begin{align}\n",
        " S_X(f) &= 5 + 4 \\cos(2\\pi f) & -1/2 \\leq f \\leq 1/2 \n",
        " \\end{align}\n",
        "\n",
        "If we pass this signal through an LTI filter with impulse response \n",
        "$$ h[n] = \\begin{cases} 3 \\cdot (0.8)^n & n \\geq 0 \\\\ 0 & \\text{otherwise} \\end{cases}, $$\n",
        "what is the PSD of the output signal $\\{ Y[n] \\}$? What is the average expected power in the signal?\n",
        "\n"
      ]
    },
    {
      "cell_type": "markdown",
      "metadata": {
        "id": "hxG9n_QiB4vq",
        "colab_type": "text"
      },
      "source": [
        "By the Fourier table and the scaling property, we can determine the transfer function:\n",
        "\\begin{align}\n",
        "h(t) &= 3 \\cdot (0.8)^n u[n] & &\\overset{\\mathcal{F}}{\\longleftrightarrow} &  H(f) &= 3 \\cdot \\frac{1}{1 - (0.8) e^{-j2\\pi f}}\\end{align}\n",
        "To be able to apply the Filter Theorem, we need the _squared magnitude_ of the transfer function:\n",
        "\\begin{align}\n",
        " |H(f)|^2 &= \\left(3 \\cdot \\frac{1}{1 - (0.8) e^{-j2\\pi f}}\\right) \\left( 3 \\cdot \\frac{1}{1 - (0.8) e^{-j2\\pi f}} \\right)^* \\\\\n",
        " &= \\left(\\frac{3}{1 - (0.8) e^{-j2\\pi f}}\\right) \\left(\\frac{3}{1 - (0.8) e^{+j2\\pi f}} \\right)\\\\\n",
        " &= \\frac{9}{1 - 0.8 (e^{j2\\pi f} + e^{-j2\\pi f}) + (0.8)^2} \\\\\n",
        " &= \\frac{9}{1.64 - 1.6\\cos(2\\pi f)}\n",
        "\\end{align}\n",
        "\n",
        "By the Filter Theorem, the PSD of $\\{ Y(t) \\}$ is the product of the two \n",
        "\\begin{align*}\n",
        "S_Y(f) &= |H(f)|^2 \\cdot S_X(f) \\\\\n",
        "&= \\frac{9}{1.64 - 1.6\\cos(2\\pi f)} \\cdot \\left( 5 + 4\\cos(2\\pi f) \\right)\n",
        "\\end{align*}\n",
        "\n",
        "Now, we can obtain the average expected power in any frequency band by integrating $S_Y(f)$ over that frequency band. For example, the average expected power is \n",
        "\n",
        "$$ \\int_{-1/2}^{1/2} S_Y(f)\\,df = 205. $$\n",
        "\n",
        "using [Wolfram Alpha](https://www.wolframalpha.com/input/?i=integrate+%5Cfrac%7B9%7D%7B1.64+-+1.6%5Ccos%282%5Cpi+x%29%7D+%285+%2B+4%5Ccos%282%5Cpi+x%29%29+from+x%3D-1%2F2+to+1%2F2). Notice that because this is a discrete signal, we only include the frequencies up to the Nyquist limit."
      ]
    }
  ]
}