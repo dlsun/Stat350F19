{
  "nbformat": 4,
  "nbformat_minor": 0,
  "metadata": {
    "colab": {
      "name": "Filter Theorem",
      "provenance": [],
      "collapsed_sections": [
        "irC8hxW9T90L",
        "MpVi78sUUEt-"
      ],
      "include_colab_link": true
    },
    "kernelspec": {
      "name": "python3",
      "display_name": "Python 3"
    }
  },
  "cells": [
    {
      "cell_type": "markdown",
      "metadata": {
        "id": "view-in-github",
        "colab_type": "text"
      },
      "source": [
        "<a href=\"https://colab.research.google.com/github/dlsun/Stat350F19/blob/master/Filter_Theorem.ipynb\" target=\"_parent\"><img src=\"https://colab.research.google.com/assets/colab-badge.svg\" alt=\"Open In Colab\"/></a>"
      ]
    },
    {
      "cell_type": "markdown",
      "metadata": {
        "id": "irC8hxW9T90L",
        "colab_type": "text"
      },
      "source": [
        "# Filter Theorem\n",
        "\n",
        "Suppose the stationary process $\\{ X(t) \\}$ is passed through an LTI filter with impulse response $h$. Then, the output process $\\{ Y(t) \\}$ is also stationary. The power spectral densities of $\\{ X(t) \\}$ and $\\{ Y(t) \\}$ are related by  \n",
        "\n",
        "$$ S_Y(f) = |H(f)|^2 S_X(f), $$\n",
        "\n",
        "where $H = \\mathcal{F}[h]$ is the transfer function of the filter."
      ]
    },
    {
      "cell_type": "markdown",
      "metadata": {
        "id": "97LyBVXXUCAq",
        "colab_type": "text"
      },
      "source": [
        "_Proof._ You already did most of the work in the activity for today. You showed that $\\{Y(t)\\}$ was stationary, with \n",
        "\n",
        "- mean function $\\mu_Y = H(0) \\mu_X$ \n",
        "- autocovariance function $C_Y(\\Delta t) = (h(-t) * h(t) * C_X)(\\Delta t)$\n",
        "\n",
        "The PSD of $\\{ Y(t) \\}$ is the Fourier transform of $C_Y(\\Delta t) + \\mu_Y^2$, or\n",
        "\n",
        "\\begin{align}\n",
        "S_Y(f) &= \\overline{H(f)} \\cdot H(f) \\cdot \\mathcal{F}[C_X](f) + H(0)^2 \\mu_X^2 \\delta(f) \\\\\n",
        "&= |H(f)|^2 \\cdot \\mathcal{F}[C_X](f) + |H(f)|^2 \\mu_X^2 \\delta(f) \\\\\n",
        "&= |H(f)|^2 \\cdot \\mathcal{F}[C_X + \\mu_X^2](f) \\\\\n",
        "&= |H(f)|^2 \\cdot S_X(f)\n",
        "\\end{align}"
      ]
    },
    {
      "cell_type": "markdown",
      "metadata": {
        "id": "MpVi78sUUEt-",
        "colab_type": "text"
      },
      "source": [
        "# Proof of the Wiener-Khinchin Theorem\n",
        "\n",
        "The Filter Theorem allows a simple and intuitive proof of the Wiener-Khinchin Theorem.\n",
        "\n",
        "In order for it to make sense to call $S_X(f)$ a \"power spectral density\", it should satisfy two properties:\n",
        "\n",
        "1. The integral of $S_X(f)$ over all frequencies should produce the average expected power.\n",
        "2. The integral of $S_X(f)$ over any frequency band $[f_0, f_1]$ should produce the average expected power between $f_0$ and $f_1$."
      ]
    },
    {
      "cell_type": "markdown",
      "metadata": {
        "id": "tCAqvhX3VasH",
        "colab_type": "text"
      },
      "source": [
        "## Property 1\n",
        "\n",
        "Property 1 follows immediately from the Fourier property that the value of the signal at 0 in one domain is the integral of the signal in the other domain.\n",
        "\n",
        "Since we have the Fourier pair \n",
        "$$ C(\\Delta t) + \\mu^2 \\overset{\\mathcal{F}}{\\longleftrightarrow} S_X(f), $$\n",
        "the Fourier property tells us that \n",
        "$$ C(0) + \\mu^2 = \\int_{-\\infty}^\\infty S_X(f)\\,df. $$\n",
        "\n",
        "But $C(0) + \\mu^2$ is just the average expected power in the signal."
      ]
    },
    {
      "cell_type": "markdown",
      "metadata": {
        "id": "gY2ge0fWUioY",
        "colab_type": "text"
      },
      "source": [
        "## Property 2\n",
        "\n",
        "To find the average power in $\\{ X(t) \\}$ between $f_0$ and $f_1$, we could first pass the signal through a bandpass filter with transfer function \n",
        "$$H(f) = \\begin{cases} 1 & f_0 \\leq |f| \\leq f_1 \\\\ 0 & \\text{otherwise} \\end{cases} $$\n",
        "and then measure the average expected power in the output signal $\\{ Y(t) \\}$.\n",
        "\n",
        "By the Filter Theorem, we know that the PSD of the output signal is \n",
        "$$  S_Y(f) = |H(f)|^2 \\cdot S_X(f). $$\n",
        "Integrating this PSD over all frequencies, we get \n",
        "\\begin{align}\n",
        "\\int_{-\\infty}^\\infty S_Y(f)\\,df &= \\int_{-\\infty}^\\infty |H(f)|^2 \\cdot S_X(f)\\,df \\\\\n",
        "&= \\int_{f_0}^{f_1} S_X(f)\\,df + \\int_{-f_1}^{-f_0} S_X(f)\\,df\n",
        "\\end{align}\n",
        "But this is just the integral of the PSD of $\\{ X(t) \\}$ over the frequency band $[f_0, f_1]$."
      ]
    }
  ]
}